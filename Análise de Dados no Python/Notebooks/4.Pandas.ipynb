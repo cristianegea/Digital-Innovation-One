{
  "cells": [
    {
      "cell_type": "markdown",
      "metadata": {
        "colab_type": "text",
        "id": "ZeNH2z6OzfND"
      },
      "source": [
        "# Trabalhando com Planilhas do Excel"
      ]
    },
    {
      "cell_type": "code",
      "metadata": {
        "id": "Jwz3_uGfzmYp",
        "colab_type": "code",
        "colab": {}
      },
      "source": [
        "# Importando a biblioteca\n",
        "import pandas as pd"
      ],
      "execution_count": 1,
      "outputs": []
    },
    {
      "cell_type": "code",
      "metadata": {
        "id": "pCTDd0YKzqkc",
        "colab_type": "code",
        "colab": {}
      },
      "source": [
        "# Leitura dos arquivos\n",
        "df1 = pd.read_excel(\"datasets/Aracaju.xlsx\")\n",
        "df2 = pd.read_excel(\"datasets/Fortaleza.xlsx\")\n",
        "df3 = pd.read_excel(\"datasets/Natal.xlsx\")\n",
        "df4 = pd.read_excel(\"datasets/Recife.xlsx\")\n",
        "df5 = pd.read_excel(\"datasets/Salvador.xlsx\")"
      ],
      "execution_count": 2,
      "outputs": []
    },
    {
      "cell_type": "code",
      "metadata": {
        "id": "bt3rZ7tWBPj7",
        "colab_type": "code",
        "colab": {
          "base_uri": "https://localhost:8080/",
          "height": 204
        },
        "outputId": "ffe2a67a-51ad-4749-d941-81cdd22dd29b"
      },
      "source": [
        "df5.head()\n",
        "\n",
        "# \"Vendas\" => valor das vendas"
      ],
      "execution_count": 3,
      "outputs": [
        {
          "output_type": "execute_result",
          "data": {
            "text/plain": "     Cidade       Data  Vendas  LojaID  Qtde\n0  Salvador 2018-01-01   31.06    1037     3\n1  Salvador 2018-01-01   19.02    1034     3\n2  Salvador 2019-02-10  173.59    1035     3\n3  Salvador 2019-02-10  176.34    1037     3\n4  Salvador 2019-02-14   19.47    1037     3",
            "text/html": "<div>\n<style scoped>\n    .dataframe tbody tr th:only-of-type {\n        vertical-align: middle;\n    }\n\n    .dataframe tbody tr th {\n        vertical-align: top;\n    }\n\n    .dataframe thead th {\n        text-align: right;\n    }\n</style>\n<table border=\"1\" class=\"dataframe\">\n  <thead>\n    <tr style=\"text-align: right;\">\n      <th></th>\n      <th>Cidade</th>\n      <th>Data</th>\n      <th>Vendas</th>\n      <th>LojaID</th>\n      <th>Qtde</th>\n    </tr>\n  </thead>\n  <tbody>\n    <tr>\n      <th>0</th>\n      <td>Salvador</td>\n      <td>2018-01-01</td>\n      <td>31.06</td>\n      <td>1037</td>\n      <td>3</td>\n    </tr>\n    <tr>\n      <th>1</th>\n      <td>Salvador</td>\n      <td>2018-01-01</td>\n      <td>19.02</td>\n      <td>1034</td>\n      <td>3</td>\n    </tr>\n    <tr>\n      <th>2</th>\n      <td>Salvador</td>\n      <td>2019-02-10</td>\n      <td>173.59</td>\n      <td>1035</td>\n      <td>3</td>\n    </tr>\n    <tr>\n      <th>3</th>\n      <td>Salvador</td>\n      <td>2019-02-10</td>\n      <td>176.34</td>\n      <td>1037</td>\n      <td>3</td>\n    </tr>\n    <tr>\n      <th>4</th>\n      <td>Salvador</td>\n      <td>2019-02-14</td>\n      <td>19.47</td>\n      <td>1037</td>\n      <td>3</td>\n    </tr>\n  </tbody>\n</table>\n</div>"
          },
          "metadata": {},
          "execution_count": 3
        }
      ]
    },
    {
      "cell_type": "code",
      "metadata": {
        "id": "7CUnX6220WVx",
        "colab_type": "code",
        "colab": {}
      },
      "source": [
        "# Agrupando/concatenando todos os dataframes\n",
        "df = pd.concat([df1,df2,df3,df4,df5])"
      ],
      "execution_count": 4,
      "outputs": []
    },
    {
      "cell_type": "code",
      "metadata": {
        "id": "3ZFau-ii08Lr",
        "colab_type": "code",
        "colab": {
          "base_uri": "https://localhost:8080/",
          "height": 204
        },
        "outputId": "f1ed7fc3-ac01-4af0-cfae-392c343ffb03"
      },
      "source": [
        "# Exibindo as 5 primeiras linhas\n",
        "df.head()"
      ],
      "execution_count": 5,
      "outputs": [
        {
          "output_type": "execute_result",
          "data": {
            "text/plain": "    Cidade       Data  Vendas  LojaID  Qtde\n0  Aracaju 2018-01-01  142.00    1520     1\n1  Aracaju 2018-01-01   14.21    1522     6\n2  Aracaju 2018-01-01   71.55    1520     1\n3  Aracaju 2018-01-01    3.01    1521     7\n4  Aracaju 2018-01-01   24.51    1522     8",
            "text/html": "<div>\n<style scoped>\n    .dataframe tbody tr th:only-of-type {\n        vertical-align: middle;\n    }\n\n    .dataframe tbody tr th {\n        vertical-align: top;\n    }\n\n    .dataframe thead th {\n        text-align: right;\n    }\n</style>\n<table border=\"1\" class=\"dataframe\">\n  <thead>\n    <tr style=\"text-align: right;\">\n      <th></th>\n      <th>Cidade</th>\n      <th>Data</th>\n      <th>Vendas</th>\n      <th>LojaID</th>\n      <th>Qtde</th>\n    </tr>\n  </thead>\n  <tbody>\n    <tr>\n      <th>0</th>\n      <td>Aracaju</td>\n      <td>2018-01-01</td>\n      <td>142.00</td>\n      <td>1520</td>\n      <td>1</td>\n    </tr>\n    <tr>\n      <th>1</th>\n      <td>Aracaju</td>\n      <td>2018-01-01</td>\n      <td>14.21</td>\n      <td>1522</td>\n      <td>6</td>\n    </tr>\n    <tr>\n      <th>2</th>\n      <td>Aracaju</td>\n      <td>2018-01-01</td>\n      <td>71.55</td>\n      <td>1520</td>\n      <td>1</td>\n    </tr>\n    <tr>\n      <th>3</th>\n      <td>Aracaju</td>\n      <td>2018-01-01</td>\n      <td>3.01</td>\n      <td>1521</td>\n      <td>7</td>\n    </tr>\n    <tr>\n      <th>4</th>\n      <td>Aracaju</td>\n      <td>2018-01-01</td>\n      <td>24.51</td>\n      <td>1522</td>\n      <td>8</td>\n    </tr>\n  </tbody>\n</table>\n</div>"
          },
          "metadata": {},
          "execution_count": 5
        }
      ]
    },
    {
      "cell_type": "code",
      "metadata": {
        "id": "oURFLxhL09Uq",
        "colab_type": "code",
        "colab": {
          "base_uri": "https://localhost:8080/",
          "height": 204
        },
        "outputId": "15c819f5-a1c0-42ac-a1be-4727c424340a"
      },
      "source": [
        "# Exibindo as últimas 5 linhas\n",
        "df.tail()"
      ],
      "execution_count": 6,
      "outputs": [
        {
          "output_type": "execute_result",
          "data": {
            "text/plain": "       Cidade       Data  Vendas  LojaID  Qtde\n235  Salvador 2019-01-03   41.84    1034     1\n236  Salvador 2019-01-03  126.29    1035     3\n237  Salvador 2019-01-03   38.06    1036     3\n238  Salvador 2019-01-03  139.64    1035     1\n239  Salvador 2019-01-03  161.41    1037     3",
            "text/html": "<div>\n<style scoped>\n    .dataframe tbody tr th:only-of-type {\n        vertical-align: middle;\n    }\n\n    .dataframe tbody tr th {\n        vertical-align: top;\n    }\n\n    .dataframe thead th {\n        text-align: right;\n    }\n</style>\n<table border=\"1\" class=\"dataframe\">\n  <thead>\n    <tr style=\"text-align: right;\">\n      <th></th>\n      <th>Cidade</th>\n      <th>Data</th>\n      <th>Vendas</th>\n      <th>LojaID</th>\n      <th>Qtde</th>\n    </tr>\n  </thead>\n  <tbody>\n    <tr>\n      <th>235</th>\n      <td>Salvador</td>\n      <td>2019-01-03</td>\n      <td>41.84</td>\n      <td>1034</td>\n      <td>1</td>\n    </tr>\n    <tr>\n      <th>236</th>\n      <td>Salvador</td>\n      <td>2019-01-03</td>\n      <td>126.29</td>\n      <td>1035</td>\n      <td>3</td>\n    </tr>\n    <tr>\n      <th>237</th>\n      <td>Salvador</td>\n      <td>2019-01-03</td>\n      <td>38.06</td>\n      <td>1036</td>\n      <td>3</td>\n    </tr>\n    <tr>\n      <th>238</th>\n      <td>Salvador</td>\n      <td>2019-01-03</td>\n      <td>139.64</td>\n      <td>1035</td>\n      <td>1</td>\n    </tr>\n    <tr>\n      <th>239</th>\n      <td>Salvador</td>\n      <td>2019-01-03</td>\n      <td>161.41</td>\n      <td>1037</td>\n      <td>3</td>\n    </tr>\n  </tbody>\n</table>\n</div>"
          },
          "metadata": {},
          "execution_count": 6
        }
      ]
    },
    {
      "cell_type": "code",
      "metadata": {
        "id": "j8eDDblOBsRG",
        "colab_type": "code",
        "colab": {
          "base_uri": "https://localhost:8080/",
          "height": 204
        },
        "outputId": "efe39301-6ece-4446-a3b9-60cb39095e69"
      },
      "source": [
        "# Exibindo 5 linhas aleatórias (amostra aleatória de 5 linhas)\n",
        "df.sample(5)"
      ],
      "execution_count": 7,
      "outputs": [
        {
          "output_type": "execute_result",
          "data": {
            "text/plain": "        Cidade       Data  Vendas  LojaID  Qtde\n151      Natal 2019-01-02   14.63    1035     1\n23       Natal 2019-02-14  304.00     854     3\n28   Fortaleza 2019-01-01   34.88    1004     3\n48     Aracaju 2018-01-01   35.90    1521     8\n228   Salvador 2019-01-02    6.87    1037     3",
            "text/html": "<div>\n<style scoped>\n    .dataframe tbody tr th:only-of-type {\n        vertical-align: middle;\n    }\n\n    .dataframe tbody tr th {\n        vertical-align: top;\n    }\n\n    .dataframe thead th {\n        text-align: right;\n    }\n</style>\n<table border=\"1\" class=\"dataframe\">\n  <thead>\n    <tr style=\"text-align: right;\">\n      <th></th>\n      <th>Cidade</th>\n      <th>Data</th>\n      <th>Vendas</th>\n      <th>LojaID</th>\n      <th>Qtde</th>\n    </tr>\n  </thead>\n  <tbody>\n    <tr>\n      <th>151</th>\n      <td>Natal</td>\n      <td>2019-01-02</td>\n      <td>14.63</td>\n      <td>1035</td>\n      <td>1</td>\n    </tr>\n    <tr>\n      <th>23</th>\n      <td>Natal</td>\n      <td>2019-02-14</td>\n      <td>304.00</td>\n      <td>854</td>\n      <td>3</td>\n    </tr>\n    <tr>\n      <th>28</th>\n      <td>Fortaleza</td>\n      <td>2019-01-01</td>\n      <td>34.88</td>\n      <td>1004</td>\n      <td>3</td>\n    </tr>\n    <tr>\n      <th>48</th>\n      <td>Aracaju</td>\n      <td>2018-01-01</td>\n      <td>35.90</td>\n      <td>1521</td>\n      <td>8</td>\n    </tr>\n    <tr>\n      <th>228</th>\n      <td>Salvador</td>\n      <td>2019-01-02</td>\n      <td>6.87</td>\n      <td>1037</td>\n      <td>3</td>\n    </tr>\n  </tbody>\n</table>\n</div>"
          },
          "metadata": {},
          "execution_count": 7
        }
      ]
    },
    {
      "cell_type": "code",
      "metadata": {
        "id": "kw0zQfVL0_-L",
        "colab_type": "code",
        "colab": {
          "base_uri": "https://localhost:8080/",
          "height": 119
        },
        "outputId": "3617ad27-63b0-483f-ea6e-1a8413272afc"
      },
      "source": [
        "# Verificando o tipo de dado de cada coluna\n",
        "df.dtypes"
      ],
      "execution_count": 8,
      "outputs": [
        {
          "output_type": "execute_result",
          "data": {
            "text/plain": "Cidade            object\nData      datetime64[ns]\nVendas           float64\nLojaID             int64\nQtde               int64\ndtype: object"
          },
          "metadata": {},
          "execution_count": 8
        }
      ]
    },
    {
      "cell_type": "code",
      "metadata": {
        "id": "JB2rkM0b1kKF",
        "colab_type": "code",
        "colab": {}
      },
      "source": [
        "# Alterando o tipo de dado da coluna LojaID\n",
        "df[\"LojaID\"] = df[\"LojaID\"].astype(\"object\")"
      ],
      "execution_count": 9,
      "outputs": []
    },
    {
      "cell_type": "code",
      "metadata": {
        "id": "3t1uir2H1w3x",
        "colab_type": "code",
        "colab": {
          "base_uri": "https://localhost:8080/",
          "height": 119
        },
        "outputId": "a8d766f2-504e-4fcb-dc09-842b4c5218b6"
      },
      "source": [
        "df.dtypes"
      ],
      "execution_count": 10,
      "outputs": [
        {
          "output_type": "execute_result",
          "data": {
            "text/plain": "Cidade            object\nData      datetime64[ns]\nVendas           float64\nLojaID            object\nQtde               int64\ndtype: object"
          },
          "metadata": {},
          "execution_count": 10
        }
      ]
    },
    {
      "cell_type": "code",
      "metadata": {
        "id": "B0Z8PPuJ19dc",
        "colab_type": "code",
        "colab": {
          "base_uri": "https://localhost:8080/",
          "height": 204
        },
        "outputId": "10d2f11c-d421-4434-fe61-dfa537b7d6bf"
      },
      "source": [
        "df.head()"
      ],
      "execution_count": 11,
      "outputs": [
        {
          "output_type": "execute_result",
          "data": {
            "text/plain": "    Cidade       Data  Vendas LojaID  Qtde\n0  Aracaju 2018-01-01  142.00   1520     1\n1  Aracaju 2018-01-01   14.21   1522     6\n2  Aracaju 2018-01-01   71.55   1520     1\n3  Aracaju 2018-01-01    3.01   1521     7\n4  Aracaju 2018-01-01   24.51   1522     8",
            "text/html": "<div>\n<style scoped>\n    .dataframe tbody tr th:only-of-type {\n        vertical-align: middle;\n    }\n\n    .dataframe tbody tr th {\n        vertical-align: top;\n    }\n\n    .dataframe thead th {\n        text-align: right;\n    }\n</style>\n<table border=\"1\" class=\"dataframe\">\n  <thead>\n    <tr style=\"text-align: right;\">\n      <th></th>\n      <th>Cidade</th>\n      <th>Data</th>\n      <th>Vendas</th>\n      <th>LojaID</th>\n      <th>Qtde</th>\n    </tr>\n  </thead>\n  <tbody>\n    <tr>\n      <th>0</th>\n      <td>Aracaju</td>\n      <td>2018-01-01</td>\n      <td>142.00</td>\n      <td>1520</td>\n      <td>1</td>\n    </tr>\n    <tr>\n      <th>1</th>\n      <td>Aracaju</td>\n      <td>2018-01-01</td>\n      <td>14.21</td>\n      <td>1522</td>\n      <td>6</td>\n    </tr>\n    <tr>\n      <th>2</th>\n      <td>Aracaju</td>\n      <td>2018-01-01</td>\n      <td>71.55</td>\n      <td>1520</td>\n      <td>1</td>\n    </tr>\n    <tr>\n      <th>3</th>\n      <td>Aracaju</td>\n      <td>2018-01-01</td>\n      <td>3.01</td>\n      <td>1521</td>\n      <td>7</td>\n    </tr>\n    <tr>\n      <th>4</th>\n      <td>Aracaju</td>\n      <td>2018-01-01</td>\n      <td>24.51</td>\n      <td>1522</td>\n      <td>8</td>\n    </tr>\n  </tbody>\n</table>\n</div>"
          },
          "metadata": {},
          "execution_count": 11
        }
      ]
    },
    {
      "cell_type": "markdown",
      "metadata": {
        "id": "br1B_k4v2HVF",
        "colab_type": "text"
      },
      "source": [
        "**Tratando valores faltantes**"
      ]
    },
    {
      "cell_type": "code",
      "metadata": {
        "id": "J5L9EehP2MQ_",
        "colab_type": "code",
        "colab": {
          "base_uri": "https://localhost:8080/",
          "height": 119
        },
        "outputId": "91e21217-879a-426d-8b2b-fb15e77b2f87"
      },
      "source": [
        "# Identificando a existência de valores faltantes (contagem total de valores faltantes)\n",
        "df.isnull().sum()"
      ],
      "execution_count": 12,
      "outputs": [
        {
          "output_type": "execute_result",
          "data": {
            "text/plain": "Cidade    0\nData      0\nVendas    0\nLojaID    0\nQtde      0\ndtype: int64"
          },
          "metadata": {},
          "execution_count": 12
        }
      ]
    },
    {
      "cell_type": "code",
      "metadata": {
        "id": "Pbq2ztpN3Qn8",
        "colab_type": "code",
        "colab": {}
      },
      "source": [
        "# Substituindo os valores nulos pela média\n",
        "df[\"Vendas\"].fillna(df[\"Vendas\"].mean(), inplace=True)\n",
        "\n",
        "# \"inplace=True\" => valor do objeto é modificado em memória"
      ],
      "execution_count": 13,
      "outputs": []
    },
    {
      "cell_type": "code",
      "metadata": {
        "id": "mD0kfsgSC4Qm",
        "colab_type": "code",
        "colab": {
          "base_uri": "https://localhost:8080/",
          "height": 34
        },
        "outputId": "ed9d1efa-e3b7-479e-9119-bab340148876"
      },
      "source": [
        "# Calculando a médida total de vendas\n",
        "df[\"Vendas\"].mean()"
      ],
      "execution_count": 14,
      "outputs": [
        {
          "output_type": "execute_result",
          "data": {
            "text/plain": "122.61180089485438"
          },
          "metadata": {},
          "execution_count": 14
        }
      ]
    },
    {
      "cell_type": "code",
      "metadata": {
        "id": "lA5QVn5N4C-A",
        "colab_type": "code",
        "colab": {
          "base_uri": "https://localhost:8080/",
          "height": 119
        },
        "outputId": "84874d37-3368-452f-bed6-43782dea6cf6"
      },
      "source": [
        "# Identificando a existência de valores faltantes (contagem total de valores faltantes)\n",
        "df.isnull().sum()"
      ],
      "execution_count": 15,
      "outputs": [
        {
          "output_type": "execute_result",
          "data": {
            "text/plain": "Cidade    0\nData      0\nVendas    0\nLojaID    0\nQtde      0\ndtype: int64"
          },
          "metadata": {},
          "execution_count": 15
        }
      ]
    },
    {
      "cell_type": "code",
      "metadata": {
        "id": "ds7pcl-ZCzb_",
        "colab_type": "code",
        "colab": {
          "base_uri": "https://localhost:8080/",
          "height": 514
        },
        "outputId": "e37c7b13-8bd1-46e2-e3f3-104e7fce8f8a"
      },
      "source": [
        "# Visualizando 15 linhas aleatórias (amostra aleatória de 15 linhas)\n",
        "df.sample(15)"
      ],
      "execution_count": 16,
      "outputs": [
        {
          "output_type": "execute_result",
          "data": {
            "text/plain": "        Cidade       Data  Vendas LojaID  Qtde\n80    Salvador 2019-01-01   40.24   1036     2\n164   Salvador 2019-01-02    6.59   1035     1\n10   Fortaleza 2019-01-01  179.88   1002     4\n25     Aracaju 2018-01-01   34.66   1521     8\n177      Natal 2019-01-02   41.19   1037     2\n96    Salvador 2019-01-01   42.94   1034     3\n30     Aracaju 2018-01-01  119.21   1520     8\n20      Recife 2019-01-01   42.35    982     3\n52     Aracaju 2018-01-01   14.76   1520     3\n13     Aracaju 2018-01-01   43.45   1522    10\n121   Salvador 2019-03-02  100.70   1037     3\n32   Fortaleza 2019-01-01   43.33   1004     4\n54   Fortaleza 2019-01-01   16.73   1002     5\n23   Fortaleza 2019-01-01   85.90   1004     5\n23      Recife 2019-01-01   37.51    982     2",
            "text/html": "<div>\n<style scoped>\n    .dataframe tbody tr th:only-of-type {\n        vertical-align: middle;\n    }\n\n    .dataframe tbody tr th {\n        vertical-align: top;\n    }\n\n    .dataframe thead th {\n        text-align: right;\n    }\n</style>\n<table border=\"1\" class=\"dataframe\">\n  <thead>\n    <tr style=\"text-align: right;\">\n      <th></th>\n      <th>Cidade</th>\n      <th>Data</th>\n      <th>Vendas</th>\n      <th>LojaID</th>\n      <th>Qtde</th>\n    </tr>\n  </thead>\n  <tbody>\n    <tr>\n      <th>80</th>\n      <td>Salvador</td>\n      <td>2019-01-01</td>\n      <td>40.24</td>\n      <td>1036</td>\n      <td>2</td>\n    </tr>\n    <tr>\n      <th>164</th>\n      <td>Salvador</td>\n      <td>2019-01-02</td>\n      <td>6.59</td>\n      <td>1035</td>\n      <td>1</td>\n    </tr>\n    <tr>\n      <th>10</th>\n      <td>Fortaleza</td>\n      <td>2019-01-01</td>\n      <td>179.88</td>\n      <td>1002</td>\n      <td>4</td>\n    </tr>\n    <tr>\n      <th>25</th>\n      <td>Aracaju</td>\n      <td>2018-01-01</td>\n      <td>34.66</td>\n      <td>1521</td>\n      <td>8</td>\n    </tr>\n    <tr>\n      <th>177</th>\n      <td>Natal</td>\n      <td>2019-01-02</td>\n      <td>41.19</td>\n      <td>1037</td>\n      <td>2</td>\n    </tr>\n    <tr>\n      <th>96</th>\n      <td>Salvador</td>\n      <td>2019-01-01</td>\n      <td>42.94</td>\n      <td>1034</td>\n      <td>3</td>\n    </tr>\n    <tr>\n      <th>30</th>\n      <td>Aracaju</td>\n      <td>2018-01-01</td>\n      <td>119.21</td>\n      <td>1520</td>\n      <td>8</td>\n    </tr>\n    <tr>\n      <th>20</th>\n      <td>Recife</td>\n      <td>2019-01-01</td>\n      <td>42.35</td>\n      <td>982</td>\n      <td>3</td>\n    </tr>\n    <tr>\n      <th>52</th>\n      <td>Aracaju</td>\n      <td>2018-01-01</td>\n      <td>14.76</td>\n      <td>1520</td>\n      <td>3</td>\n    </tr>\n    <tr>\n      <th>13</th>\n      <td>Aracaju</td>\n      <td>2018-01-01</td>\n      <td>43.45</td>\n      <td>1522</td>\n      <td>10</td>\n    </tr>\n    <tr>\n      <th>121</th>\n      <td>Salvador</td>\n      <td>2019-03-02</td>\n      <td>100.70</td>\n      <td>1037</td>\n      <td>3</td>\n    </tr>\n    <tr>\n      <th>32</th>\n      <td>Fortaleza</td>\n      <td>2019-01-01</td>\n      <td>43.33</td>\n      <td>1004</td>\n      <td>4</td>\n    </tr>\n    <tr>\n      <th>54</th>\n      <td>Fortaleza</td>\n      <td>2019-01-01</td>\n      <td>16.73</td>\n      <td>1002</td>\n      <td>5</td>\n    </tr>\n    <tr>\n      <th>23</th>\n      <td>Fortaleza</td>\n      <td>2019-01-01</td>\n      <td>85.90</td>\n      <td>1004</td>\n      <td>5</td>\n    </tr>\n    <tr>\n      <th>23</th>\n      <td>Recife</td>\n      <td>2019-01-01</td>\n      <td>37.51</td>\n      <td>982</td>\n      <td>2</td>\n    </tr>\n  </tbody>\n</table>\n</div>"
          },
          "metadata": {},
          "execution_count": 16
        }
      ]
    },
    {
      "cell_type": "code",
      "metadata": {
        "id": "mMzEuPzg4N7U",
        "colab_type": "code",
        "colab": {}
      },
      "source": [
        "# Substituindo os valores nulos por zero\n",
        "df[\"Vendas\"].fillna(0, inplace=True)"
      ],
      "execution_count": 17,
      "outputs": []
    },
    {
      "cell_type": "code",
      "metadata": {
        "id": "pS7Hw6Df4Z7x",
        "colab_type": "code",
        "colab": {}
      },
      "source": [
        "# Apagando as linhas com valores nulos\n",
        "df.dropna(inplace=True)"
      ],
      "execution_count": 18,
      "outputs": []
    },
    {
      "cell_type": "code",
      "metadata": {
        "id": "iCpMj9MD4mW4",
        "colab_type": "code",
        "colab": {}
      },
      "source": [
        "# Apagando as linhas com valores nulos com base apenas em 1 coluna (coluna \"vendas\")\n",
        "df.dropna(subset=[\"Vendas\"], inplace=True)"
      ],
      "execution_count": 19,
      "outputs": []
    },
    {
      "cell_type": "code",
      "metadata": {
        "id": "LYGy2VqH8uaM",
        "colab_type": "code",
        "colab": {}
      },
      "source": [
        "# Removendo linhas que estejam com valores faltantes em todas as colunas\n",
        "df.dropna(how=\"all\", inplace=True)"
      ],
      "execution_count": 20,
      "outputs": []
    },
    {
      "cell_type": "markdown",
      "metadata": {
        "id": "6qEyt17h9IwX",
        "colab_type": "text"
      },
      "source": [
        "**Criando colunas novas**"
      ]
    },
    {
      "cell_type": "code",
      "metadata": {
        "id": "1HAAiPkh1yIN",
        "colab_type": "code",
        "colab": {}
      },
      "source": [
        "# Criando a coluna de receita\n",
        "df[\"Receita\"] = df[\"Vendas\"].mul(df[\"Qtde\"])"
      ],
      "execution_count": 21,
      "outputs": []
    },
    {
      "cell_type": "code",
      "metadata": {
        "id": "_gMBlvMq5fPj",
        "colab_type": "code",
        "colab": {
          "base_uri": "https://localhost:8080/",
          "height": 204
        },
        "outputId": "a971500e-05cb-417a-f782-9a7737c2728f"
      },
      "source": [
        "df.head()"
      ],
      "execution_count": 22,
      "outputs": [
        {
          "output_type": "execute_result",
          "data": {
            "text/plain": "    Cidade       Data  Vendas LojaID  Qtde  Receita\n0  Aracaju 2018-01-01  142.00   1520     1   142.00\n1  Aracaju 2018-01-01   14.21   1522     6    85.26\n2  Aracaju 2018-01-01   71.55   1520     1    71.55\n3  Aracaju 2018-01-01    3.01   1521     7    21.07\n4  Aracaju 2018-01-01   24.51   1522     8   196.08",
            "text/html": "<div>\n<style scoped>\n    .dataframe tbody tr th:only-of-type {\n        vertical-align: middle;\n    }\n\n    .dataframe tbody tr th {\n        vertical-align: top;\n    }\n\n    .dataframe thead th {\n        text-align: right;\n    }\n</style>\n<table border=\"1\" class=\"dataframe\">\n  <thead>\n    <tr style=\"text-align: right;\">\n      <th></th>\n      <th>Cidade</th>\n      <th>Data</th>\n      <th>Vendas</th>\n      <th>LojaID</th>\n      <th>Qtde</th>\n      <th>Receita</th>\n    </tr>\n  </thead>\n  <tbody>\n    <tr>\n      <th>0</th>\n      <td>Aracaju</td>\n      <td>2018-01-01</td>\n      <td>142.00</td>\n      <td>1520</td>\n      <td>1</td>\n      <td>142.00</td>\n    </tr>\n    <tr>\n      <th>1</th>\n      <td>Aracaju</td>\n      <td>2018-01-01</td>\n      <td>14.21</td>\n      <td>1522</td>\n      <td>6</td>\n      <td>85.26</td>\n    </tr>\n    <tr>\n      <th>2</th>\n      <td>Aracaju</td>\n      <td>2018-01-01</td>\n      <td>71.55</td>\n      <td>1520</td>\n      <td>1</td>\n      <td>71.55</td>\n    </tr>\n    <tr>\n      <th>3</th>\n      <td>Aracaju</td>\n      <td>2018-01-01</td>\n      <td>3.01</td>\n      <td>1521</td>\n      <td>7</td>\n      <td>21.07</td>\n    </tr>\n    <tr>\n      <th>4</th>\n      <td>Aracaju</td>\n      <td>2018-01-01</td>\n      <td>24.51</td>\n      <td>1522</td>\n      <td>8</td>\n      <td>196.08</td>\n    </tr>\n  </tbody>\n</table>\n</div>"
          },
          "metadata": {},
          "execution_count": 22
        }
      ]
    },
    {
      "cell_type": "code",
      "metadata": {
        "id": "DyU5SIhB9Q8w",
        "colab_type": "code",
        "colab": {}
      },
      "source": [
        "# Criando a coluna\n",
        "df[\"Receita/Vendas\"] = df[\"Receita\"] / df[\"Vendas\"] "
      ],
      "execution_count": 23,
      "outputs": []
    },
    {
      "cell_type": "code",
      "metadata": {
        "id": "YfMgO16q9m8F",
        "colab_type": "code",
        "colab": {
          "base_uri": "https://localhost:8080/",
          "height": 204
        },
        "outputId": "6b323566-e8aa-4a51-8623-cd0c7ec0cd69"
      },
      "source": [
        "df.head()"
      ],
      "execution_count": 24,
      "outputs": [
        {
          "output_type": "execute_result",
          "data": {
            "text/plain": "    Cidade       Data  Vendas LojaID  Qtde  Receita  Receita/Vendas\n0  Aracaju 2018-01-01  142.00   1520     1   142.00             1.0\n1  Aracaju 2018-01-01   14.21   1522     6    85.26             6.0\n2  Aracaju 2018-01-01   71.55   1520     1    71.55             1.0\n3  Aracaju 2018-01-01    3.01   1521     7    21.07             7.0\n4  Aracaju 2018-01-01   24.51   1522     8   196.08             8.0",
            "text/html": "<div>\n<style scoped>\n    .dataframe tbody tr th:only-of-type {\n        vertical-align: middle;\n    }\n\n    .dataframe tbody tr th {\n        vertical-align: top;\n    }\n\n    .dataframe thead th {\n        text-align: right;\n    }\n</style>\n<table border=\"1\" class=\"dataframe\">\n  <thead>\n    <tr style=\"text-align: right;\">\n      <th></th>\n      <th>Cidade</th>\n      <th>Data</th>\n      <th>Vendas</th>\n      <th>LojaID</th>\n      <th>Qtde</th>\n      <th>Receita</th>\n      <th>Receita/Vendas</th>\n    </tr>\n  </thead>\n  <tbody>\n    <tr>\n      <th>0</th>\n      <td>Aracaju</td>\n      <td>2018-01-01</td>\n      <td>142.00</td>\n      <td>1520</td>\n      <td>1</td>\n      <td>142.00</td>\n      <td>1.0</td>\n    </tr>\n    <tr>\n      <th>1</th>\n      <td>Aracaju</td>\n      <td>2018-01-01</td>\n      <td>14.21</td>\n      <td>1522</td>\n      <td>6</td>\n      <td>85.26</td>\n      <td>6.0</td>\n    </tr>\n    <tr>\n      <th>2</th>\n      <td>Aracaju</td>\n      <td>2018-01-01</td>\n      <td>71.55</td>\n      <td>1520</td>\n      <td>1</td>\n      <td>71.55</td>\n      <td>1.0</td>\n    </tr>\n    <tr>\n      <th>3</th>\n      <td>Aracaju</td>\n      <td>2018-01-01</td>\n      <td>3.01</td>\n      <td>1521</td>\n      <td>7</td>\n      <td>21.07</td>\n      <td>7.0</td>\n    </tr>\n    <tr>\n      <th>4</th>\n      <td>Aracaju</td>\n      <td>2018-01-01</td>\n      <td>24.51</td>\n      <td>1522</td>\n      <td>8</td>\n      <td>196.08</td>\n      <td>8.0</td>\n    </tr>\n  </tbody>\n</table>\n</div>"
          },
          "metadata": {},
          "execution_count": 24
        }
      ]
    },
    {
      "cell_type": "code",
      "metadata": {
        "id": "8uy9S6JZ3DB4",
        "colab_type": "code",
        "colab": {
          "base_uri": "https://localhost:8080/",
          "height": 34
        },
        "outputId": "1e059579-152c-4151-8aaf-2f61e689644b"
      },
      "source": [
        "# Retornando a maior receita\n",
        "df[\"Receita\"].max()"
      ],
      "execution_count": 25,
      "outputs": [
        {
          "output_type": "execute_result",
          "data": {
            "text/plain": "3544.0"
          },
          "metadata": {},
          "execution_count": 25
        }
      ]
    },
    {
      "cell_type": "code",
      "metadata": {
        "id": "y0eoDEcQ5cZC",
        "colab_type": "code",
        "colab": {
          "base_uri": "https://localhost:8080/",
          "height": 34
        },
        "outputId": "4a520c61-b418-4bdc-8196-f4ea5eee07c8"
      },
      "source": [
        "# Retornando a menor receita\n",
        "df[\"Receita\"].min()"
      ],
      "execution_count": 26,
      "outputs": [
        {
          "output_type": "execute_result",
          "data": {
            "text/plain": "3.34"
          },
          "metadata": {},
          "execution_count": 26
        }
      ]
    },
    {
      "cell_type": "code",
      "metadata": {
        "id": "gX87zZJ45p5e",
        "colab_type": "code",
        "colab": {
          "base_uri": "https://localhost:8080/",
          "height": 142
        },
        "outputId": "bf1cce13-9157-4752-cf40-32b31f0c6977"
      },
      "source": [
        "# Exibindo as linhas com maiores receiras (nlargest => retorna os top 3 com base na coluna receita)\n",
        "df.nlargest(3, \"Receita\")"
      ],
      "execution_count": 27,
      "outputs": [
        {
          "output_type": "execute_result",
          "data": {
            "text/plain": "   Cidade       Data  Vendas LojaID  Qtde  Receita  Receita/Vendas\n7   Natal 2019-03-18   886.0    853     4   3544.0             4.0\n51  Natal 2018-01-21   859.0    852     4   3436.0             4.0\n55  Natal 2019-01-08   859.0    854     4   3436.0             4.0",
            "text/html": "<div>\n<style scoped>\n    .dataframe tbody tr th:only-of-type {\n        vertical-align: middle;\n    }\n\n    .dataframe tbody tr th {\n        vertical-align: top;\n    }\n\n    .dataframe thead th {\n        text-align: right;\n    }\n</style>\n<table border=\"1\" class=\"dataframe\">\n  <thead>\n    <tr style=\"text-align: right;\">\n      <th></th>\n      <th>Cidade</th>\n      <th>Data</th>\n      <th>Vendas</th>\n      <th>LojaID</th>\n      <th>Qtde</th>\n      <th>Receita</th>\n      <th>Receita/Vendas</th>\n    </tr>\n  </thead>\n  <tbody>\n    <tr>\n      <th>7</th>\n      <td>Natal</td>\n      <td>2019-03-18</td>\n      <td>886.0</td>\n      <td>853</td>\n      <td>4</td>\n      <td>3544.0</td>\n      <td>4.0</td>\n    </tr>\n    <tr>\n      <th>51</th>\n      <td>Natal</td>\n      <td>2018-01-21</td>\n      <td>859.0</td>\n      <td>852</td>\n      <td>4</td>\n      <td>3436.0</td>\n      <td>4.0</td>\n    </tr>\n    <tr>\n      <th>55</th>\n      <td>Natal</td>\n      <td>2019-01-08</td>\n      <td>859.0</td>\n      <td>854</td>\n      <td>4</td>\n      <td>3436.0</td>\n      <td>4.0</td>\n    </tr>\n  </tbody>\n</table>\n</div>"
          },
          "metadata": {},
          "execution_count": 27
        }
      ]
    },
    {
      "cell_type": "code",
      "metadata": {
        "id": "gPK25dF_5w8q",
        "colab_type": "code",
        "colab": {
          "base_uri": "https://localhost:8080/",
          "height": 142
        },
        "outputId": "dc8bdffa-f584-4baa-a1d9-67bf4006048a"
      },
      "source": [
        "# Exibindo as linhas com menores receiras (nsamllest => retorna as 3 piores receitas)\n",
        "df.nsmallest(3, \"Receita\")"
      ],
      "execution_count": 28,
      "outputs": [
        {
          "output_type": "execute_result",
          "data": {
            "text/plain": "      Cidade       Data  Vendas LojaID  Qtde  Receita  Receita/Vendas\n118  Aracaju 2018-01-01    3.34   1522     1     3.34             1.0\n65    Recife 2019-01-01    4.01    981     1     4.01             1.0\n92     Natal 2019-01-02    4.57   1035     1     4.57             1.0",
            "text/html": "<div>\n<style scoped>\n    .dataframe tbody tr th:only-of-type {\n        vertical-align: middle;\n    }\n\n    .dataframe tbody tr th {\n        vertical-align: top;\n    }\n\n    .dataframe thead th {\n        text-align: right;\n    }\n</style>\n<table border=\"1\" class=\"dataframe\">\n  <thead>\n    <tr style=\"text-align: right;\">\n      <th></th>\n      <th>Cidade</th>\n      <th>Data</th>\n      <th>Vendas</th>\n      <th>LojaID</th>\n      <th>Qtde</th>\n      <th>Receita</th>\n      <th>Receita/Vendas</th>\n    </tr>\n  </thead>\n  <tbody>\n    <tr>\n      <th>118</th>\n      <td>Aracaju</td>\n      <td>2018-01-01</td>\n      <td>3.34</td>\n      <td>1522</td>\n      <td>1</td>\n      <td>3.34</td>\n      <td>1.0</td>\n    </tr>\n    <tr>\n      <th>65</th>\n      <td>Recife</td>\n      <td>2019-01-01</td>\n      <td>4.01</td>\n      <td>981</td>\n      <td>1</td>\n      <td>4.01</td>\n      <td>1.0</td>\n    </tr>\n    <tr>\n      <th>92</th>\n      <td>Natal</td>\n      <td>2019-01-02</td>\n      <td>4.57</td>\n      <td>1035</td>\n      <td>1</td>\n      <td>4.57</td>\n      <td>1.0</td>\n    </tr>\n  </tbody>\n</table>\n</div>"
          },
          "metadata": {},
          "execution_count": 28
        }
      ]
    },
    {
      "cell_type": "code",
      "metadata": {
        "id": "VS5Bu2fQ53fG",
        "colab_type": "code",
        "colab": {
          "base_uri": "https://localhost:8080/",
          "height": 136
        },
        "outputId": "8d41e480-5db7-4175-cb4e-184f91a52a38"
      },
      "source": [
        "# Agrupamento por cidade (soma das receitas por cidade)\n",
        "df.groupby(\"Cidade\")[\"Receita\"].sum()"
      ],
      "execution_count": 29,
      "outputs": [
        {
          "output_type": "execute_result",
          "data": {
            "text/plain": "Cidade\nAracaju       48748.25\nFortaleza     37913.97\nNatal        167227.52\nRecife        51936.51\nSalvador      40596.73\nName: Receita, dtype: float64"
          },
          "metadata": {},
          "execution_count": 29
        }
      ]
    },
    {
      "cell_type": "code",
      "metadata": {
        "id": "wYZDthyQ6DMI",
        "colab_type": "code",
        "colab": {
          "base_uri": "https://localhost:8080/",
          "height": 359
        },
        "outputId": "524d93a9-0246-46fe-8bfe-9451bc52b65a"
      },
      "source": [
        "# Ordenando o conjunto de dados (pela coluna \"receitas\")\n",
        "df.sort_values(\"Receita\", ascending=False).head(10)\n",
        "\n",
        "# ascending=False => ordem decrescente"
      ],
      "execution_count": 30,
      "outputs": [
        {
          "output_type": "execute_result",
          "data": {
            "text/plain": "   Cidade       Data  Vendas LojaID  Qtde  Receita  Receita/Vendas\n7   Natal 2019-03-18   886.0    853     4   3544.0             4.0\n55  Natal 2019-01-08   859.0    854     4   3436.0             4.0\n51  Natal 2018-01-21   859.0    852     4   3436.0             4.0\n30  Natal 2018-10-02   856.0    853     4   3424.0             4.0\n41  Natal 2018-05-20   835.0    852     4   3340.0             4.0\n38  Natal 2018-02-25   828.0    852     4   3312.0             4.0\n10  Natal 2018-10-27   828.0    852     4   3312.0             4.0\n69  Natal 2019-03-24   817.0    852     4   3268.0             4.0\n62  Natal 2018-02-10   793.0    854     4   3172.0             4.0\n52  Natal 2018-04-27   778.0    854     4   3112.0             4.0",
            "text/html": "<div>\n<style scoped>\n    .dataframe tbody tr th:only-of-type {\n        vertical-align: middle;\n    }\n\n    .dataframe tbody tr th {\n        vertical-align: top;\n    }\n\n    .dataframe thead th {\n        text-align: right;\n    }\n</style>\n<table border=\"1\" class=\"dataframe\">\n  <thead>\n    <tr style=\"text-align: right;\">\n      <th></th>\n      <th>Cidade</th>\n      <th>Data</th>\n      <th>Vendas</th>\n      <th>LojaID</th>\n      <th>Qtde</th>\n      <th>Receita</th>\n      <th>Receita/Vendas</th>\n    </tr>\n  </thead>\n  <tbody>\n    <tr>\n      <th>7</th>\n      <td>Natal</td>\n      <td>2019-03-18</td>\n      <td>886.0</td>\n      <td>853</td>\n      <td>4</td>\n      <td>3544.0</td>\n      <td>4.0</td>\n    </tr>\n    <tr>\n      <th>55</th>\n      <td>Natal</td>\n      <td>2019-01-08</td>\n      <td>859.0</td>\n      <td>854</td>\n      <td>4</td>\n      <td>3436.0</td>\n      <td>4.0</td>\n    </tr>\n    <tr>\n      <th>51</th>\n      <td>Natal</td>\n      <td>2018-01-21</td>\n      <td>859.0</td>\n      <td>852</td>\n      <td>4</td>\n      <td>3436.0</td>\n      <td>4.0</td>\n    </tr>\n    <tr>\n      <th>30</th>\n      <td>Natal</td>\n      <td>2018-10-02</td>\n      <td>856.0</td>\n      <td>853</td>\n      <td>4</td>\n      <td>3424.0</td>\n      <td>4.0</td>\n    </tr>\n    <tr>\n      <th>41</th>\n      <td>Natal</td>\n      <td>2018-05-20</td>\n      <td>835.0</td>\n      <td>852</td>\n      <td>4</td>\n      <td>3340.0</td>\n      <td>4.0</td>\n    </tr>\n    <tr>\n      <th>38</th>\n      <td>Natal</td>\n      <td>2018-02-25</td>\n      <td>828.0</td>\n      <td>852</td>\n      <td>4</td>\n      <td>3312.0</td>\n      <td>4.0</td>\n    </tr>\n    <tr>\n      <th>10</th>\n      <td>Natal</td>\n      <td>2018-10-27</td>\n      <td>828.0</td>\n      <td>852</td>\n      <td>4</td>\n      <td>3312.0</td>\n      <td>4.0</td>\n    </tr>\n    <tr>\n      <th>69</th>\n      <td>Natal</td>\n      <td>2019-03-24</td>\n      <td>817.0</td>\n      <td>852</td>\n      <td>4</td>\n      <td>3268.0</td>\n      <td>4.0</td>\n    </tr>\n    <tr>\n      <th>62</th>\n      <td>Natal</td>\n      <td>2018-02-10</td>\n      <td>793.0</td>\n      <td>854</td>\n      <td>4</td>\n      <td>3172.0</td>\n      <td>4.0</td>\n    </tr>\n    <tr>\n      <th>52</th>\n      <td>Natal</td>\n      <td>2018-04-27</td>\n      <td>778.0</td>\n      <td>854</td>\n      <td>4</td>\n      <td>3112.0</td>\n      <td>4.0</td>\n    </tr>\n  </tbody>\n</table>\n</div>"
          },
          "metadata": {},
          "execution_count": 30
        }
      ]
    },
    {
      "cell_type": "markdown",
      "metadata": {
        "id": "6cA7C78N6sV2",
        "colab_type": "text"
      },
      "source": [
        "# **Trabalhando com datas**"
      ]
    },
    {
      "cell_type": "code",
      "metadata": {
        "id": "bRaEoWjR6deI",
        "colab_type": "code",
        "colab": {}
      },
      "source": [
        "# Trasnformando a coluna de data em tipo inteiro\n",
        "df[\"Data\"] = df[\"Data\"].astype(\"int64\")"
      ],
      "execution_count": 31,
      "outputs": []
    },
    {
      "cell_type": "code",
      "metadata": {
        "id": "dz5kfhncHi7Y",
        "colab_type": "code",
        "colab": {
          "base_uri": "https://localhost:8080/",
          "height": 153
        },
        "outputId": "275eb110-54a8-450e-b8c6-165961d670b7"
      },
      "source": [
        "# Verificando o tipo de dado de cada coluna\n",
        "df.dtypes"
      ],
      "execution_count": 32,
      "outputs": [
        {
          "output_type": "execute_result",
          "data": {
            "text/plain": "Cidade             object\nData                int64\nVendas            float64\nLojaID             object\nQtde                int64\nReceita           float64\nReceita/Vendas    float64\ndtype: object"
          },
          "metadata": {},
          "execution_count": 32
        }
      ]
    },
    {
      "cell_type": "code",
      "metadata": {
        "id": "oQhrdhlyHkED",
        "colab_type": "code",
        "colab": {}
      },
      "source": [
        "# Transformando coluna de data em data\n",
        "df[\"Data\"] = pd.to_datetime(df[\"Data\"])"
      ],
      "execution_count": 33,
      "outputs": []
    },
    {
      "cell_type": "code",
      "metadata": {
        "id": "F5zeaq6tH1P0",
        "colab_type": "code",
        "colab": {
          "base_uri": "https://localhost:8080/",
          "height": 153
        },
        "outputId": "5b8043b2-c63b-4322-df5a-dd41737591c6"
      },
      "source": [
        "df.dtypes"
      ],
      "execution_count": 34,
      "outputs": [
        {
          "output_type": "execute_result",
          "data": {
            "text/plain": "Cidade                    object\nData              datetime64[ns]\nVendas                   float64\nLojaID                    object\nQtde                       int64\nReceita                  float64\nReceita/Vendas           float64\ndtype: object"
          },
          "metadata": {},
          "execution_count": 34
        }
      ]
    },
    {
      "cell_type": "code",
      "metadata": {
        "id": "c027o0jyH2qg",
        "colab_type": "code",
        "colab": {
          "base_uri": "https://localhost:8080/",
          "height": 85
        },
        "outputId": "4db1851a-4712-44b6-f297-ec2c16d61f67"
      },
      "source": [
        "# Agrupamento por ano (receita por ano)\n",
        "df.groupby(df[\"Data\"].dt.year)[\"Receita\"].sum()\n",
        "\n",
        "# \"df[\"Data\"].dt.year\" => extrai da docluna \"data\" apenas o ano"
      ],
      "execution_count": 35,
      "outputs": [
        {
          "output_type": "execute_result",
          "data": {
            "text/plain": "Data\n2018    118176.53\n2019    228246.45\nName: Receita, dtype: float64"
          },
          "metadata": {},
          "execution_count": 35
        }
      ]
    },
    {
      "cell_type": "code",
      "metadata": {
        "id": "kX_HYKgQIEPD",
        "colab_type": "code",
        "colab": {}
      },
      "source": [
        "# Criando uma nova coluna com o ano\n",
        "df[\"Ano_Venda\"] = df[\"Data\"].dt.year"
      ],
      "execution_count": 36,
      "outputs": []
    },
    {
      "cell_type": "code",
      "metadata": {
        "id": "MJjiTggaISUi",
        "colab_type": "code",
        "colab": {
          "base_uri": "https://localhost:8080/",
          "height": 204
        },
        "outputId": "664952a0-57c6-4f6d-ad6f-03a5d846d557"
      },
      "source": [
        "# Amostra aleatória\n",
        "df.sample(5)"
      ],
      "execution_count": 37,
      "outputs": [
        {
          "output_type": "execute_result",
          "data": {
            "text/plain": "        Cidade       Data  Vendas LojaID  Qtde  Receita  Receita/Vendas  \\\n25    Salvador 2019-01-01  220.62   1035     1   220.62             1.0   \n27    Salvador 2019-01-01  145.79   1034     1   145.79             1.0   \n108     Recife 2019-03-02  152.89    981     4   611.56             4.0   \n0    Fortaleza 2019-01-01   45.27   1002     2    90.54             2.0   \n195      Natal 2019-01-02   44.89   1036     3   134.67             3.0   \n\n     Ano_Venda  \n25        2019  \n27        2019  \n108       2019  \n0         2019  \n195       2019  ",
            "text/html": "<div>\n<style scoped>\n    .dataframe tbody tr th:only-of-type {\n        vertical-align: middle;\n    }\n\n    .dataframe tbody tr th {\n        vertical-align: top;\n    }\n\n    .dataframe thead th {\n        text-align: right;\n    }\n</style>\n<table border=\"1\" class=\"dataframe\">\n  <thead>\n    <tr style=\"text-align: right;\">\n      <th></th>\n      <th>Cidade</th>\n      <th>Data</th>\n      <th>Vendas</th>\n      <th>LojaID</th>\n      <th>Qtde</th>\n      <th>Receita</th>\n      <th>Receita/Vendas</th>\n      <th>Ano_Venda</th>\n    </tr>\n  </thead>\n  <tbody>\n    <tr>\n      <th>25</th>\n      <td>Salvador</td>\n      <td>2019-01-01</td>\n      <td>220.62</td>\n      <td>1035</td>\n      <td>1</td>\n      <td>220.62</td>\n      <td>1.0</td>\n      <td>2019</td>\n    </tr>\n    <tr>\n      <th>27</th>\n      <td>Salvador</td>\n      <td>2019-01-01</td>\n      <td>145.79</td>\n      <td>1034</td>\n      <td>1</td>\n      <td>145.79</td>\n      <td>1.0</td>\n      <td>2019</td>\n    </tr>\n    <tr>\n      <th>108</th>\n      <td>Recife</td>\n      <td>2019-03-02</td>\n      <td>152.89</td>\n      <td>981</td>\n      <td>4</td>\n      <td>611.56</td>\n      <td>4.0</td>\n      <td>2019</td>\n    </tr>\n    <tr>\n      <th>0</th>\n      <td>Fortaleza</td>\n      <td>2019-01-01</td>\n      <td>45.27</td>\n      <td>1002</td>\n      <td>2</td>\n      <td>90.54</td>\n      <td>2.0</td>\n      <td>2019</td>\n    </tr>\n    <tr>\n      <th>195</th>\n      <td>Natal</td>\n      <td>2019-01-02</td>\n      <td>44.89</td>\n      <td>1036</td>\n      <td>3</td>\n      <td>134.67</td>\n      <td>3.0</td>\n      <td>2019</td>\n    </tr>\n  </tbody>\n</table>\n</div>"
          },
          "metadata": {},
          "execution_count": 37
        }
      ]
    },
    {
      "cell_type": "code",
      "metadata": {
        "id": "QPNcE_6rIT6F",
        "colab_type": "code",
        "colab": {}
      },
      "source": [
        "# Extraindo o mês e o dia de venda\n",
        "df[\"mes_venda\"], df[\"dia_venda\"] = (df[\"Data\"].dt.month, df[\"Data\"].dt.day)"
      ],
      "execution_count": 38,
      "outputs": []
    },
    {
      "cell_type": "code",
      "metadata": {
        "id": "9AOp3NNfIrah",
        "colab_type": "code",
        "colab": {
          "base_uri": "https://localhost:8080/",
          "height": 204
        },
        "outputId": "be23b592-06ec-4eab-88f0-46da74f85544"
      },
      "source": [
        "# Amostra aleatória\n",
        "df.sample(5)"
      ],
      "execution_count": 39,
      "outputs": [
        {
          "output_type": "execute_result",
          "data": {
            "text/plain": "       Cidade       Data  Vendas LojaID  Qtde  Receita  Receita/Vendas  \\\n18   Salvador 2019-01-01  242.31   1035     1   242.31             1.0   \n87    Aracaju 2018-01-01  116.71   1520     4   466.84             4.0   \n73      Natal 2018-01-05  773.00    852     2  1546.00             2.0   \n161  Salvador 2019-01-02    5.80   1036     1     5.80             1.0   \n83   Salvador 2019-01-01   63.66   1036     2   127.32             2.0   \n\n     Ano_Venda  mes_venda  dia_venda  \n18        2019          1          1  \n87        2018          1          1  \n73        2018          1          5  \n161       2019          1          2  \n83        2019          1          1  ",
            "text/html": "<div>\n<style scoped>\n    .dataframe tbody tr th:only-of-type {\n        vertical-align: middle;\n    }\n\n    .dataframe tbody tr th {\n        vertical-align: top;\n    }\n\n    .dataframe thead th {\n        text-align: right;\n    }\n</style>\n<table border=\"1\" class=\"dataframe\">\n  <thead>\n    <tr style=\"text-align: right;\">\n      <th></th>\n      <th>Cidade</th>\n      <th>Data</th>\n      <th>Vendas</th>\n      <th>LojaID</th>\n      <th>Qtde</th>\n      <th>Receita</th>\n      <th>Receita/Vendas</th>\n      <th>Ano_Venda</th>\n      <th>mes_venda</th>\n      <th>dia_venda</th>\n    </tr>\n  </thead>\n  <tbody>\n    <tr>\n      <th>18</th>\n      <td>Salvador</td>\n      <td>2019-01-01</td>\n      <td>242.31</td>\n      <td>1035</td>\n      <td>1</td>\n      <td>242.31</td>\n      <td>1.0</td>\n      <td>2019</td>\n      <td>1</td>\n      <td>1</td>\n    </tr>\n    <tr>\n      <th>87</th>\n      <td>Aracaju</td>\n      <td>2018-01-01</td>\n      <td>116.71</td>\n      <td>1520</td>\n      <td>4</td>\n      <td>466.84</td>\n      <td>4.0</td>\n      <td>2018</td>\n      <td>1</td>\n      <td>1</td>\n    </tr>\n    <tr>\n      <th>73</th>\n      <td>Natal</td>\n      <td>2018-01-05</td>\n      <td>773.00</td>\n      <td>852</td>\n      <td>2</td>\n      <td>1546.00</td>\n      <td>2.0</td>\n      <td>2018</td>\n      <td>1</td>\n      <td>5</td>\n    </tr>\n    <tr>\n      <th>161</th>\n      <td>Salvador</td>\n      <td>2019-01-02</td>\n      <td>5.80</td>\n      <td>1036</td>\n      <td>1</td>\n      <td>5.80</td>\n      <td>1.0</td>\n      <td>2019</td>\n      <td>1</td>\n      <td>2</td>\n    </tr>\n    <tr>\n      <th>83</th>\n      <td>Salvador</td>\n      <td>2019-01-01</td>\n      <td>63.66</td>\n      <td>1036</td>\n      <td>2</td>\n      <td>127.32</td>\n      <td>2.0</td>\n      <td>2019</td>\n      <td>1</td>\n      <td>1</td>\n    </tr>\n  </tbody>\n</table>\n</div>"
          },
          "metadata": {},
          "execution_count": 39
        }
      ]
    },
    {
      "cell_type": "code",
      "metadata": {
        "id": "r0la0X6aIuTR",
        "colab_type": "code",
        "colab": {
          "base_uri": "https://localhost:8080/",
          "height": 34
        },
        "outputId": "bd244f1b-6e69-4991-c290-f071af4e0d60"
      },
      "source": [
        "# Retornando a data mais antiga\n",
        "df[\"Data\"].min()"
      ],
      "execution_count": 40,
      "outputs": [
        {
          "output_type": "execute_result",
          "data": {
            "text/plain": "Timestamp('2018-01-01 00:00:00')"
          },
          "metadata": {},
          "execution_count": 40
        }
      ]
    },
    {
      "cell_type": "code",
      "metadata": {
        "id": "7fxtFDflI7L0",
        "colab_type": "code",
        "colab": {}
      },
      "source": [
        "# Calculando a diferença de dias\n",
        "df[\"diferenca_dias\"] = df[\"Data\"] - df[\"Data\"].min()"
      ],
      "execution_count": 41,
      "outputs": []
    },
    {
      "cell_type": "code",
      "metadata": {
        "id": "997DVEidJKNG",
        "colab_type": "code",
        "colab": {
          "base_uri": "https://localhost:8080/",
          "height": 204
        },
        "outputId": "3cdb03c2-cb8d-4891-b10b-27474beb1806"
      },
      "source": [
        "# Amostra Aleatória\n",
        "df.sample(5)"
      ],
      "execution_count": 42,
      "outputs": [
        {
          "output_type": "execute_result",
          "data": {
            "text/plain": "       Cidade       Data  Vendas LojaID  Qtde  Receita  Receita/Vendas  \\\n52    Aracaju 2018-01-01   14.76   1520     3    44.28             3.0   \n52     Recife 2019-01-01   11.87    981     6    71.22             6.0   \n185     Natal 2019-01-02    6.67   1036     1     6.67             1.0   \n237  Salvador 2019-01-03   38.06   1036     3   114.18             3.0   \n5    Salvador 2019-01-01  179.20   1037     3   537.60             3.0   \n\n     Ano_Venda  mes_venda  dia_venda diferenca_dias  \n52        2018          1          1         0 days  \n52        2019          1          1       365 days  \n185       2019          1          2       366 days  \n237       2019          1          3       367 days  \n5         2019          1          1       365 days  ",
            "text/html": "<div>\n<style scoped>\n    .dataframe tbody tr th:only-of-type {\n        vertical-align: middle;\n    }\n\n    .dataframe tbody tr th {\n        vertical-align: top;\n    }\n\n    .dataframe thead th {\n        text-align: right;\n    }\n</style>\n<table border=\"1\" class=\"dataframe\">\n  <thead>\n    <tr style=\"text-align: right;\">\n      <th></th>\n      <th>Cidade</th>\n      <th>Data</th>\n      <th>Vendas</th>\n      <th>LojaID</th>\n      <th>Qtde</th>\n      <th>Receita</th>\n      <th>Receita/Vendas</th>\n      <th>Ano_Venda</th>\n      <th>mes_venda</th>\n      <th>dia_venda</th>\n      <th>diferenca_dias</th>\n    </tr>\n  </thead>\n  <tbody>\n    <tr>\n      <th>52</th>\n      <td>Aracaju</td>\n      <td>2018-01-01</td>\n      <td>14.76</td>\n      <td>1520</td>\n      <td>3</td>\n      <td>44.28</td>\n      <td>3.0</td>\n      <td>2018</td>\n      <td>1</td>\n      <td>1</td>\n      <td>0 days</td>\n    </tr>\n    <tr>\n      <th>52</th>\n      <td>Recife</td>\n      <td>2019-01-01</td>\n      <td>11.87</td>\n      <td>981</td>\n      <td>6</td>\n      <td>71.22</td>\n      <td>6.0</td>\n      <td>2019</td>\n      <td>1</td>\n      <td>1</td>\n      <td>365 days</td>\n    </tr>\n    <tr>\n      <th>185</th>\n      <td>Natal</td>\n      <td>2019-01-02</td>\n      <td>6.67</td>\n      <td>1036</td>\n      <td>1</td>\n      <td>6.67</td>\n      <td>1.0</td>\n      <td>2019</td>\n      <td>1</td>\n      <td>2</td>\n      <td>366 days</td>\n    </tr>\n    <tr>\n      <th>237</th>\n      <td>Salvador</td>\n      <td>2019-01-03</td>\n      <td>38.06</td>\n      <td>1036</td>\n      <td>3</td>\n      <td>114.18</td>\n      <td>3.0</td>\n      <td>2019</td>\n      <td>1</td>\n      <td>3</td>\n      <td>367 days</td>\n    </tr>\n    <tr>\n      <th>5</th>\n      <td>Salvador</td>\n      <td>2019-01-01</td>\n      <td>179.20</td>\n      <td>1037</td>\n      <td>3</td>\n      <td>537.60</td>\n      <td>3.0</td>\n      <td>2019</td>\n      <td>1</td>\n      <td>1</td>\n      <td>365 days</td>\n    </tr>\n  </tbody>\n</table>\n</div>"
          },
          "metadata": {},
          "execution_count": 42
        }
      ]
    },
    {
      "cell_type": "code",
      "metadata": {
        "id": "KHAOU_EuJLkb",
        "colab_type": "code",
        "colab": {}
      },
      "source": [
        "# Criando a coluna de trimestre\n",
        "df[\"trimestre_venda\"] = df[\"Data\"].dt.quarter"
      ],
      "execution_count": 43,
      "outputs": []
    },
    {
      "cell_type": "code",
      "metadata": {
        "id": "OWZos9y5JbDQ",
        "colab_type": "code",
        "colab": {
          "base_uri": "https://localhost:8080/",
          "height": 204
        },
        "outputId": "79806c1f-ed51-4705-d0b9-cbb2659f5844"
      },
      "source": [
        "df.sample(5)"
      ],
      "execution_count": 44,
      "outputs": [
        {
          "output_type": "execute_result",
          "data": {
            "text/plain": "      Cidade       Data  Vendas LojaID  Qtde  Receita  Receita/Vendas  \\\n101    Natal 2019-01-02   32.28   1035     3    96.84             3.0   \n75   Aracaju 2018-01-01  160.64   1523     9  1445.76             9.0   \n239    Natal 2019-01-03  161.41   1037     3   484.23             3.0   \n81    Recife 2019-01-01   36.52    982     8   292.16             8.0   \n43   Aracaju 2018-01-01   19.63   1523     9   176.67             9.0   \n\n     Ano_Venda  mes_venda  dia_venda diferenca_dias  trimestre_venda  \n101       2019          1          2       366 days                1  \n75        2018          1          1         0 days                1  \n239       2019          1          3       367 days                1  \n81        2019          1          1       365 days                1  \n43        2018          1          1         0 days                1  ",
            "text/html": "<div>\n<style scoped>\n    .dataframe tbody tr th:only-of-type {\n        vertical-align: middle;\n    }\n\n    .dataframe tbody tr th {\n        vertical-align: top;\n    }\n\n    .dataframe thead th {\n        text-align: right;\n    }\n</style>\n<table border=\"1\" class=\"dataframe\">\n  <thead>\n    <tr style=\"text-align: right;\">\n      <th></th>\n      <th>Cidade</th>\n      <th>Data</th>\n      <th>Vendas</th>\n      <th>LojaID</th>\n      <th>Qtde</th>\n      <th>Receita</th>\n      <th>Receita/Vendas</th>\n      <th>Ano_Venda</th>\n      <th>mes_venda</th>\n      <th>dia_venda</th>\n      <th>diferenca_dias</th>\n      <th>trimestre_venda</th>\n    </tr>\n  </thead>\n  <tbody>\n    <tr>\n      <th>101</th>\n      <td>Natal</td>\n      <td>2019-01-02</td>\n      <td>32.28</td>\n      <td>1035</td>\n      <td>3</td>\n      <td>96.84</td>\n      <td>3.0</td>\n      <td>2019</td>\n      <td>1</td>\n      <td>2</td>\n      <td>366 days</td>\n      <td>1</td>\n    </tr>\n    <tr>\n      <th>75</th>\n      <td>Aracaju</td>\n      <td>2018-01-01</td>\n      <td>160.64</td>\n      <td>1523</td>\n      <td>9</td>\n      <td>1445.76</td>\n      <td>9.0</td>\n      <td>2018</td>\n      <td>1</td>\n      <td>1</td>\n      <td>0 days</td>\n      <td>1</td>\n    </tr>\n    <tr>\n      <th>239</th>\n      <td>Natal</td>\n      <td>2019-01-03</td>\n      <td>161.41</td>\n      <td>1037</td>\n      <td>3</td>\n      <td>484.23</td>\n      <td>3.0</td>\n      <td>2019</td>\n      <td>1</td>\n      <td>3</td>\n      <td>367 days</td>\n      <td>1</td>\n    </tr>\n    <tr>\n      <th>81</th>\n      <td>Recife</td>\n      <td>2019-01-01</td>\n      <td>36.52</td>\n      <td>982</td>\n      <td>8</td>\n      <td>292.16</td>\n      <td>8.0</td>\n      <td>2019</td>\n      <td>1</td>\n      <td>1</td>\n      <td>365 days</td>\n      <td>1</td>\n    </tr>\n    <tr>\n      <th>43</th>\n      <td>Aracaju</td>\n      <td>2018-01-01</td>\n      <td>19.63</td>\n      <td>1523</td>\n      <td>9</td>\n      <td>176.67</td>\n      <td>9.0</td>\n      <td>2018</td>\n      <td>1</td>\n      <td>1</td>\n      <td>0 days</td>\n      <td>1</td>\n    </tr>\n  </tbody>\n</table>\n</div>"
          },
          "metadata": {},
          "execution_count": 44
        }
      ]
    },
    {
      "cell_type": "code",
      "metadata": {
        "id": "ie2WTtU5Jc-G",
        "colab_type": "code",
        "colab": {}
      },
      "source": [
        "# Filtrando as vendas de 2019 do mês de março\n",
        "vendas_marco_19 = df.loc[(df[\"Data\"].dt.year == 2019) & (df[\"Data\"].dt.month == 3)]"
      ],
      "execution_count": 45,
      "outputs": []
    },
    {
      "cell_type": "code",
      "metadata": {
        "id": "4x6GgzC9KB_e",
        "colab_type": "code",
        "colab": {
          "base_uri": "https://localhost:8080/",
          "height": 669
        },
        "outputId": "c65a0365-31d1-4876-96a9-803c355a4bed"
      },
      "source": [
        "vendas_marco_19.sample(20)"
      ],
      "execution_count": 46,
      "outputs": [
        {
          "output_type": "execute_result",
          "data": {
            "text/plain": "        Cidade       Data  Vendas LojaID  Qtde  Receita  Receita/Vendas  \\\n132   Salvador 2019-03-02   19.61   1036     2    39.22             2.0   \n132     Recife 2019-03-02   17.49    983     5    87.45             5.0   \n109   Salvador 2019-03-02  124.37   1035     1   124.37             1.0   \n125  Fortaleza 2019-03-02   37.60    983     4   150.40             4.0   \n46       Natal 2019-03-26  753.00    853     2  1506.00             2.0   \n118  Fortaleza 2019-03-02   17.70    981     5    88.50             5.0   \n115   Salvador 2019-03-02  202.33   1035     2   404.66             2.0   \n108  Fortaleza 2019-03-02  152.89    981     4   611.56             4.0   \n136  Fortaleza 2019-03-02   39.09    982     4   156.36             4.0   \n18       Natal 2019-03-14  581.00    853     3  1743.00             3.0   \n110   Salvador 2019-03-02  185.93   1036     3   557.79             3.0   \n108   Salvador 2019-03-02   11.72   1037     1    11.72             1.0   \n50       Natal 2019-03-08  324.00    854     4  1296.00             4.0   \n129   Salvador 2019-03-02  125.66   1037     1   125.66             1.0   \n117   Salvador 2019-03-02   39.41   1034     1    39.41             1.0   \n117  Fortaleza 2019-03-02   15.42    983     8   123.36             8.0   \n115  Fortaleza 2019-03-02   12.23    981     3    36.69             3.0   \n121  Fortaleza 2019-03-02   41.55    981     3   124.65             3.0   \n75       Natal 2019-03-30  706.00    854     2  1412.00             2.0   \n125     Recife 2019-03-02   37.60    983     4   150.40             4.0   \n\n     Ano_Venda  mes_venda  dia_venda diferenca_dias  trimestre_venda  \n132       2019          3          2       425 days                1  \n132       2019          3          2       425 days                1  \n109       2019          3          2       425 days                1  \n125       2019          3          2       425 days                1  \n46        2019          3         26       449 days                1  \n118       2019          3          2       425 days                1  \n115       2019          3          2       425 days                1  \n108       2019          3          2       425 days                1  \n136       2019          3          2       425 days                1  \n18        2019          3         14       437 days                1  \n110       2019          3          2       425 days                1  \n108       2019          3          2       425 days                1  \n50        2019          3          8       431 days                1  \n129       2019          3          2       425 days                1  \n117       2019          3          2       425 days                1  \n117       2019          3          2       425 days                1  \n115       2019          3          2       425 days                1  \n121       2019          3          2       425 days                1  \n75        2019          3         30       453 days                1  \n125       2019          3          2       425 days                1  ",
            "text/html": "<div>\n<style scoped>\n    .dataframe tbody tr th:only-of-type {\n        vertical-align: middle;\n    }\n\n    .dataframe tbody tr th {\n        vertical-align: top;\n    }\n\n    .dataframe thead th {\n        text-align: right;\n    }\n</style>\n<table border=\"1\" class=\"dataframe\">\n  <thead>\n    <tr style=\"text-align: right;\">\n      <th></th>\n      <th>Cidade</th>\n      <th>Data</th>\n      <th>Vendas</th>\n      <th>LojaID</th>\n      <th>Qtde</th>\n      <th>Receita</th>\n      <th>Receita/Vendas</th>\n      <th>Ano_Venda</th>\n      <th>mes_venda</th>\n      <th>dia_venda</th>\n      <th>diferenca_dias</th>\n      <th>trimestre_venda</th>\n    </tr>\n  </thead>\n  <tbody>\n    <tr>\n      <th>132</th>\n      <td>Salvador</td>\n      <td>2019-03-02</td>\n      <td>19.61</td>\n      <td>1036</td>\n      <td>2</td>\n      <td>39.22</td>\n      <td>2.0</td>\n      <td>2019</td>\n      <td>3</td>\n      <td>2</td>\n      <td>425 days</td>\n      <td>1</td>\n    </tr>\n    <tr>\n      <th>132</th>\n      <td>Recife</td>\n      <td>2019-03-02</td>\n      <td>17.49</td>\n      <td>983</td>\n      <td>5</td>\n      <td>87.45</td>\n      <td>5.0</td>\n      <td>2019</td>\n      <td>3</td>\n      <td>2</td>\n      <td>425 days</td>\n      <td>1</td>\n    </tr>\n    <tr>\n      <th>109</th>\n      <td>Salvador</td>\n      <td>2019-03-02</td>\n      <td>124.37</td>\n      <td>1035</td>\n      <td>1</td>\n      <td>124.37</td>\n      <td>1.0</td>\n      <td>2019</td>\n      <td>3</td>\n      <td>2</td>\n      <td>425 days</td>\n      <td>1</td>\n    </tr>\n    <tr>\n      <th>125</th>\n      <td>Fortaleza</td>\n      <td>2019-03-02</td>\n      <td>37.60</td>\n      <td>983</td>\n      <td>4</td>\n      <td>150.40</td>\n      <td>4.0</td>\n      <td>2019</td>\n      <td>3</td>\n      <td>2</td>\n      <td>425 days</td>\n      <td>1</td>\n    </tr>\n    <tr>\n      <th>46</th>\n      <td>Natal</td>\n      <td>2019-03-26</td>\n      <td>753.00</td>\n      <td>853</td>\n      <td>2</td>\n      <td>1506.00</td>\n      <td>2.0</td>\n      <td>2019</td>\n      <td>3</td>\n      <td>26</td>\n      <td>449 days</td>\n      <td>1</td>\n    </tr>\n    <tr>\n      <th>118</th>\n      <td>Fortaleza</td>\n      <td>2019-03-02</td>\n      <td>17.70</td>\n      <td>981</td>\n      <td>5</td>\n      <td>88.50</td>\n      <td>5.0</td>\n      <td>2019</td>\n      <td>3</td>\n      <td>2</td>\n      <td>425 days</td>\n      <td>1</td>\n    </tr>\n    <tr>\n      <th>115</th>\n      <td>Salvador</td>\n      <td>2019-03-02</td>\n      <td>202.33</td>\n      <td>1035</td>\n      <td>2</td>\n      <td>404.66</td>\n      <td>2.0</td>\n      <td>2019</td>\n      <td>3</td>\n      <td>2</td>\n      <td>425 days</td>\n      <td>1</td>\n    </tr>\n    <tr>\n      <th>108</th>\n      <td>Fortaleza</td>\n      <td>2019-03-02</td>\n      <td>152.89</td>\n      <td>981</td>\n      <td>4</td>\n      <td>611.56</td>\n      <td>4.0</td>\n      <td>2019</td>\n      <td>3</td>\n      <td>2</td>\n      <td>425 days</td>\n      <td>1</td>\n    </tr>\n    <tr>\n      <th>136</th>\n      <td>Fortaleza</td>\n      <td>2019-03-02</td>\n      <td>39.09</td>\n      <td>982</td>\n      <td>4</td>\n      <td>156.36</td>\n      <td>4.0</td>\n      <td>2019</td>\n      <td>3</td>\n      <td>2</td>\n      <td>425 days</td>\n      <td>1</td>\n    </tr>\n    <tr>\n      <th>18</th>\n      <td>Natal</td>\n      <td>2019-03-14</td>\n      <td>581.00</td>\n      <td>853</td>\n      <td>3</td>\n      <td>1743.00</td>\n      <td>3.0</td>\n      <td>2019</td>\n      <td>3</td>\n      <td>14</td>\n      <td>437 days</td>\n      <td>1</td>\n    </tr>\n    <tr>\n      <th>110</th>\n      <td>Salvador</td>\n      <td>2019-03-02</td>\n      <td>185.93</td>\n      <td>1036</td>\n      <td>3</td>\n      <td>557.79</td>\n      <td>3.0</td>\n      <td>2019</td>\n      <td>3</td>\n      <td>2</td>\n      <td>425 days</td>\n      <td>1</td>\n    </tr>\n    <tr>\n      <th>108</th>\n      <td>Salvador</td>\n      <td>2019-03-02</td>\n      <td>11.72</td>\n      <td>1037</td>\n      <td>1</td>\n      <td>11.72</td>\n      <td>1.0</td>\n      <td>2019</td>\n      <td>3</td>\n      <td>2</td>\n      <td>425 days</td>\n      <td>1</td>\n    </tr>\n    <tr>\n      <th>50</th>\n      <td>Natal</td>\n      <td>2019-03-08</td>\n      <td>324.00</td>\n      <td>854</td>\n      <td>4</td>\n      <td>1296.00</td>\n      <td>4.0</td>\n      <td>2019</td>\n      <td>3</td>\n      <td>8</td>\n      <td>431 days</td>\n      <td>1</td>\n    </tr>\n    <tr>\n      <th>129</th>\n      <td>Salvador</td>\n      <td>2019-03-02</td>\n      <td>125.66</td>\n      <td>1037</td>\n      <td>1</td>\n      <td>125.66</td>\n      <td>1.0</td>\n      <td>2019</td>\n      <td>3</td>\n      <td>2</td>\n      <td>425 days</td>\n      <td>1</td>\n    </tr>\n    <tr>\n      <th>117</th>\n      <td>Salvador</td>\n      <td>2019-03-02</td>\n      <td>39.41</td>\n      <td>1034</td>\n      <td>1</td>\n      <td>39.41</td>\n      <td>1.0</td>\n      <td>2019</td>\n      <td>3</td>\n      <td>2</td>\n      <td>425 days</td>\n      <td>1</td>\n    </tr>\n    <tr>\n      <th>117</th>\n      <td>Fortaleza</td>\n      <td>2019-03-02</td>\n      <td>15.42</td>\n      <td>983</td>\n      <td>8</td>\n      <td>123.36</td>\n      <td>8.0</td>\n      <td>2019</td>\n      <td>3</td>\n      <td>2</td>\n      <td>425 days</td>\n      <td>1</td>\n    </tr>\n    <tr>\n      <th>115</th>\n      <td>Fortaleza</td>\n      <td>2019-03-02</td>\n      <td>12.23</td>\n      <td>981</td>\n      <td>3</td>\n      <td>36.69</td>\n      <td>3.0</td>\n      <td>2019</td>\n      <td>3</td>\n      <td>2</td>\n      <td>425 days</td>\n      <td>1</td>\n    </tr>\n    <tr>\n      <th>121</th>\n      <td>Fortaleza</td>\n      <td>2019-03-02</td>\n      <td>41.55</td>\n      <td>981</td>\n      <td>3</td>\n      <td>124.65</td>\n      <td>3.0</td>\n      <td>2019</td>\n      <td>3</td>\n      <td>2</td>\n      <td>425 days</td>\n      <td>1</td>\n    </tr>\n    <tr>\n      <th>75</th>\n      <td>Natal</td>\n      <td>2019-03-30</td>\n      <td>706.00</td>\n      <td>854</td>\n      <td>2</td>\n      <td>1412.00</td>\n      <td>2.0</td>\n      <td>2019</td>\n      <td>3</td>\n      <td>30</td>\n      <td>453 days</td>\n      <td>1</td>\n    </tr>\n    <tr>\n      <th>125</th>\n      <td>Recife</td>\n      <td>2019-03-02</td>\n      <td>37.60</td>\n      <td>983</td>\n      <td>4</td>\n      <td>150.40</td>\n      <td>4.0</td>\n      <td>2019</td>\n      <td>3</td>\n      <td>2</td>\n      <td>425 days</td>\n      <td>1</td>\n    </tr>\n  </tbody>\n</table>\n</div>"
          },
          "metadata": {},
          "execution_count": 46
        }
      ]
    },
    {
      "cell_type": "code",
      "metadata": {
        "id": "JmZ6dy1xKEtC",
        "colab_type": "code",
        "colab": {}
      },
      "source": [
        ""
      ],
      "execution_count": 0,
      "outputs": []
    }
  ],
  "metadata": {
    "colab": {
      "name": "Pandas_Aula5.ipynb",
      "provenance": []
    },
    "kernelspec": {
      "name": "python3",
      "display_name": "Python 3"
    }
  },
  "nbformat": 4,
  "nbformat_minor": 0
}