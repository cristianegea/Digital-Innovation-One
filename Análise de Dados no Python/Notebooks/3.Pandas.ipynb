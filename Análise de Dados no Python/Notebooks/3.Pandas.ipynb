{
  "cells": [
    {
      "cell_type": "markdown",
      "metadata": {
        "id": "4KZ0SWlwZotW",
        "colab_type": "text"
      },
      "source": [
        "# **Python para análise de dados(Pandas)**"
      ]
    },
    {
      "cell_type": "code",
      "metadata": {
        "id": "HosPJUDJZ0c5",
        "colab_type": "code",
        "colab": {}
      },
      "source": [
        "# Importando a biblioteca pandas\n",
        "import pandas as pd"
      ],
      "execution_count": 1,
      "outputs": []
    },
    {
      "cell_type": "code",
      "metadata": {
        "id": "9-5IJCXOa4T3",
        "colab_type": "code",
        "colab": {}
      },
      "source": [
        "# Lendo o arquivo de dados\n",
        "df = pd.read_csv(\"datasets/Gapminder.csv\", error_bad_lines=False, sep=\";\")\n",
        "\n",
        "# \"error_bad_lines=False\" => ignora as linhas com erro\n",
        "# sep=\";\" => separador é \";\""
      ],
      "execution_count": 2,
      "outputs": []
    },
    {
      "cell_type": "code",
      "metadata": {
        "id": "AyOIeFoTbQN5",
        "colab_type": "code",
        "outputId": "61fa078b-016a-4601-e081-899319ebbe27",
        "colab": {
          "base_uri": "https://localhost:8080/",
          "height": 204
        }
      },
      "source": [
        "# Visualizando as 5 primeiras linhas\n",
        "df.head()\n",
        "\n",
        "# default é exibir as 5 primeiras linhas"
      ],
      "execution_count": 3,
      "outputs": [
        {
          "output_type": "execute_result",
          "data": {
            "text/plain": "       country continent  year  lifeExp       pop   gdpPercap\n0  Afghanistan      Asia  1952   28.801   8425333  779.445314\n1  Afghanistan      Asia  1957   30.332   9240934  820.853030\n2  Afghanistan      Asia  1962   31.997  10267083  853.100710\n3  Afghanistan      Asia  1967   34.020  11537966  836.197138\n4  Afghanistan      Asia  1972   36.088  13079460  739.981106",
            "text/html": "<div>\n<style scoped>\n    .dataframe tbody tr th:only-of-type {\n        vertical-align: middle;\n    }\n\n    .dataframe tbody tr th {\n        vertical-align: top;\n    }\n\n    .dataframe thead th {\n        text-align: right;\n    }\n</style>\n<table border=\"1\" class=\"dataframe\">\n  <thead>\n    <tr style=\"text-align: right;\">\n      <th></th>\n      <th>country</th>\n      <th>continent</th>\n      <th>year</th>\n      <th>lifeExp</th>\n      <th>pop</th>\n      <th>gdpPercap</th>\n    </tr>\n  </thead>\n  <tbody>\n    <tr>\n      <th>0</th>\n      <td>Afghanistan</td>\n      <td>Asia</td>\n      <td>1952</td>\n      <td>28.801</td>\n      <td>8425333</td>\n      <td>779.445314</td>\n    </tr>\n    <tr>\n      <th>1</th>\n      <td>Afghanistan</td>\n      <td>Asia</td>\n      <td>1957</td>\n      <td>30.332</td>\n      <td>9240934</td>\n      <td>820.853030</td>\n    </tr>\n    <tr>\n      <th>2</th>\n      <td>Afghanistan</td>\n      <td>Asia</td>\n      <td>1962</td>\n      <td>31.997</td>\n      <td>10267083</td>\n      <td>853.100710</td>\n    </tr>\n    <tr>\n      <th>3</th>\n      <td>Afghanistan</td>\n      <td>Asia</td>\n      <td>1967</td>\n      <td>34.020</td>\n      <td>11537966</td>\n      <td>836.197138</td>\n    </tr>\n    <tr>\n      <th>4</th>\n      <td>Afghanistan</td>\n      <td>Asia</td>\n      <td>1972</td>\n      <td>36.088</td>\n      <td>13079460</td>\n      <td>739.981106</td>\n    </tr>\n  </tbody>\n</table>\n</div>"
          },
          "metadata": {},
          "execution_count": 3
        }
      ]
    },
    {
      "cell_type": "code",
      "metadata": {
        "id": "4Rim8fDsbnHS",
        "colab_type": "code",
        "colab": {}
      },
      "source": [
        "# Renomeando os rótulos das colunas\n",
        "df = df.rename(columns={\"country\":\"Pais\", \"continent\": \"continente\", \"year\":\"Ano\", \"lifeExp\":\"Expectativa de vida\", \"pop\":\"Pop Total\", \"gdpPercap\": \"PIB\"})\n",
        "\n",
        "# Pop Total => População Total\n",
        "# PIB => PIB per capta"
      ],
      "execution_count": 4,
      "outputs": []
    },
    {
      "cell_type": "code",
      "metadata": {
        "id": "Wr2_q1hocgw1",
        "colab_type": "code",
        "outputId": "8d9a0939-d9ac-4f47-d2ed-582e7b46db38",
        "colab": {
          "base_uri": "https://localhost:8080/",
          "height": 359
        }
      },
      "source": [
        "# Visualizando as 10 primeiras linhas\n",
        "df.head(10)"
      ],
      "execution_count": 5,
      "outputs": [
        {
          "output_type": "execute_result",
          "data": {
            "text/plain": "          Pais continente   Ano  Expectativa de vida  Pop Total         PIB\n0  Afghanistan       Asia  1952               28.801    8425333  779.445314\n1  Afghanistan       Asia  1957               30.332    9240934  820.853030\n2  Afghanistan       Asia  1962               31.997   10267083  853.100710\n3  Afghanistan       Asia  1967               34.020   11537966  836.197138\n4  Afghanistan       Asia  1972               36.088   13079460  739.981106\n5  Afghanistan       Asia  1977               38.438   14880372  786.113360\n6  Afghanistan       Asia  1982               39.854   12881816  978.011439\n7  Afghanistan       Asia  1987               40.822   13867957  852.395945\n8  Afghanistan       Asia  1992               41.674   16317921  649.341395\n9  Afghanistan       Asia  1997               41.763   22227415  635.341351",
            "text/html": "<div>\n<style scoped>\n    .dataframe tbody tr th:only-of-type {\n        vertical-align: middle;\n    }\n\n    .dataframe tbody tr th {\n        vertical-align: top;\n    }\n\n    .dataframe thead th {\n        text-align: right;\n    }\n</style>\n<table border=\"1\" class=\"dataframe\">\n  <thead>\n    <tr style=\"text-align: right;\">\n      <th></th>\n      <th>Pais</th>\n      <th>continente</th>\n      <th>Ano</th>\n      <th>Expectativa de vida</th>\n      <th>Pop Total</th>\n      <th>PIB</th>\n    </tr>\n  </thead>\n  <tbody>\n    <tr>\n      <th>0</th>\n      <td>Afghanistan</td>\n      <td>Asia</td>\n      <td>1952</td>\n      <td>28.801</td>\n      <td>8425333</td>\n      <td>779.445314</td>\n    </tr>\n    <tr>\n      <th>1</th>\n      <td>Afghanistan</td>\n      <td>Asia</td>\n      <td>1957</td>\n      <td>30.332</td>\n      <td>9240934</td>\n      <td>820.853030</td>\n    </tr>\n    <tr>\n      <th>2</th>\n      <td>Afghanistan</td>\n      <td>Asia</td>\n      <td>1962</td>\n      <td>31.997</td>\n      <td>10267083</td>\n      <td>853.100710</td>\n    </tr>\n    <tr>\n      <th>3</th>\n      <td>Afghanistan</td>\n      <td>Asia</td>\n      <td>1967</td>\n      <td>34.020</td>\n      <td>11537966</td>\n      <td>836.197138</td>\n    </tr>\n    <tr>\n      <th>4</th>\n      <td>Afghanistan</td>\n      <td>Asia</td>\n      <td>1972</td>\n      <td>36.088</td>\n      <td>13079460</td>\n      <td>739.981106</td>\n    </tr>\n    <tr>\n      <th>5</th>\n      <td>Afghanistan</td>\n      <td>Asia</td>\n      <td>1977</td>\n      <td>38.438</td>\n      <td>14880372</td>\n      <td>786.113360</td>\n    </tr>\n    <tr>\n      <th>6</th>\n      <td>Afghanistan</td>\n      <td>Asia</td>\n      <td>1982</td>\n      <td>39.854</td>\n      <td>12881816</td>\n      <td>978.011439</td>\n    </tr>\n    <tr>\n      <th>7</th>\n      <td>Afghanistan</td>\n      <td>Asia</td>\n      <td>1987</td>\n      <td>40.822</td>\n      <td>13867957</td>\n      <td>852.395945</td>\n    </tr>\n    <tr>\n      <th>8</th>\n      <td>Afghanistan</td>\n      <td>Asia</td>\n      <td>1992</td>\n      <td>41.674</td>\n      <td>16317921</td>\n      <td>649.341395</td>\n    </tr>\n    <tr>\n      <th>9</th>\n      <td>Afghanistan</td>\n      <td>Asia</td>\n      <td>1997</td>\n      <td>41.763</td>\n      <td>22227415</td>\n      <td>635.341351</td>\n    </tr>\n  </tbody>\n</table>\n</div>"
          },
          "metadata": {},
          "execution_count": 5
        }
      ]
    },
    {
      "cell_type": "code",
      "metadata": {
        "id": "lcvQZhhCcq2j",
        "colab_type": "code",
        "outputId": "452e0d35-1994-41e9-a96b-0d1223c53829",
        "colab": {
          "base_uri": "https://localhost:8080/",
          "height": 34
        }
      },
      "source": [
        "# Visualizando total de linhas e colunas (dimensão total do dataframe)\n",
        "df.shape\n",
        "\n",
        "# todo dataframe tem o argumento \"shape\", que retorna o nº total de linhas e colunas"
      ],
      "execution_count": 6,
      "outputs": [
        {
          "output_type": "execute_result",
          "data": {
            "text/plain": "(3312, 6)"
          },
          "metadata": {},
          "execution_count": 6
        }
      ]
    },
    {
      "cell_type": "code",
      "metadata": {
        "id": "wjMe0mFFc0oE",
        "colab_type": "code",
        "outputId": "f353f9c5-9cc0-42f5-9aaa-7c428d6105b3",
        "colab": {
          "base_uri": "https://localhost:8080/",
          "height": 34
        }
      },
      "source": [
        "# Visualizando os nomes das colunas\n",
        "df.columns"
      ],
      "execution_count": 7,
      "outputs": [
        {
          "output_type": "execute_result",
          "data": {
            "text/plain": "Index(['Pais', 'continente', 'Ano', 'Expectativa de vida', 'Pop Total', 'PIB'], dtype='object')"
          },
          "metadata": {},
          "execution_count": 7
        }
      ]
    },
    {
      "cell_type": "code",
      "metadata": {
        "id": "-JxIhvy3c-d8",
        "colab_type": "code",
        "outputId": "c46cc78b-7072-4098-dcf3-fb821374b19a",
        "colab": {
          "base_uri": "https://localhost:8080/",
          "height": 136
        }
      },
      "source": [
        "# Visualizando o tipo de cada dados\n",
        "df.dtypes"
      ],
      "execution_count": 8,
      "outputs": [
        {
          "output_type": "execute_result",
          "data": {
            "text/plain": "Pais                    object\ncontinente              object\nAno                      int64\nExpectativa de vida    float64\nPop Total                int64\nPIB                    float64\ndtype: object"
          },
          "metadata": {},
          "execution_count": 8
        }
      ]
    },
    {
      "cell_type": "code",
      "metadata": {
        "id": "QIlqBtybdDBM",
        "colab_type": "code",
        "outputId": "e735668e-3867-47ba-8ec4-fc19d7c7b1ae",
        "colab": {
          "base_uri": "https://localhost:8080/",
          "height": 514
        }
      },
      "source": [
        "# Visualizando as últimas 15 linhas\n",
        "df.tail(15)"
      ],
      "execution_count": 9,
      "outputs": [
        {
          "output_type": "execute_result",
          "data": {
            "text/plain": "          Pais continente   Ano  Expectativa de vida  Pop Total          PIB\n3297    Zambia     Africa  1997               40.238    9417789  1071.353818\n3298    Zambia     Africa  2002               39.193   10595811  1071.613938\n3299    Zambia     Africa  2007               42.384   11746035  1271.211593\n3300  Zimbabwe     Africa  1952               48.451    3080907   406.884115\n3301  Zimbabwe     Africa  1957               50.469    3646340   518.764268\n3302  Zimbabwe     Africa  1962               52.358    4277736   527.272182\n3303  Zimbabwe     Africa  1967               53.995    4995432   569.795071\n3304  Zimbabwe     Africa  1972               55.635    5861135   799.362176\n3305  Zimbabwe     Africa  1977               57.674    6642107   685.587682\n3306  Zimbabwe     Africa  1982               60.363    7636524   788.855041\n3307  Zimbabwe     Africa  1987               62.351    9216418   706.157306\n3308  Zimbabwe     Africa  1992               60.377   10704340   693.420786\n3309  Zimbabwe     Africa  1997               46.809   11404948   792.449960\n3310  Zimbabwe     Africa  2002               39.989   11926563   672.038623\n3311  Zimbabwe     Africa  2007               43.487   12311143   469.709298",
            "text/html": "<div>\n<style scoped>\n    .dataframe tbody tr th:only-of-type {\n        vertical-align: middle;\n    }\n\n    .dataframe tbody tr th {\n        vertical-align: top;\n    }\n\n    .dataframe thead th {\n        text-align: right;\n    }\n</style>\n<table border=\"1\" class=\"dataframe\">\n  <thead>\n    <tr style=\"text-align: right;\">\n      <th></th>\n      <th>Pais</th>\n      <th>continente</th>\n      <th>Ano</th>\n      <th>Expectativa de vida</th>\n      <th>Pop Total</th>\n      <th>PIB</th>\n    </tr>\n  </thead>\n  <tbody>\n    <tr>\n      <th>3297</th>\n      <td>Zambia</td>\n      <td>Africa</td>\n      <td>1997</td>\n      <td>40.238</td>\n      <td>9417789</td>\n      <td>1071.353818</td>\n    </tr>\n    <tr>\n      <th>3298</th>\n      <td>Zambia</td>\n      <td>Africa</td>\n      <td>2002</td>\n      <td>39.193</td>\n      <td>10595811</td>\n      <td>1071.613938</td>\n    </tr>\n    <tr>\n      <th>3299</th>\n      <td>Zambia</td>\n      <td>Africa</td>\n      <td>2007</td>\n      <td>42.384</td>\n      <td>11746035</td>\n      <td>1271.211593</td>\n    </tr>\n    <tr>\n      <th>3300</th>\n      <td>Zimbabwe</td>\n      <td>Africa</td>\n      <td>1952</td>\n      <td>48.451</td>\n      <td>3080907</td>\n      <td>406.884115</td>\n    </tr>\n    <tr>\n      <th>3301</th>\n      <td>Zimbabwe</td>\n      <td>Africa</td>\n      <td>1957</td>\n      <td>50.469</td>\n      <td>3646340</td>\n      <td>518.764268</td>\n    </tr>\n    <tr>\n      <th>3302</th>\n      <td>Zimbabwe</td>\n      <td>Africa</td>\n      <td>1962</td>\n      <td>52.358</td>\n      <td>4277736</td>\n      <td>527.272182</td>\n    </tr>\n    <tr>\n      <th>3303</th>\n      <td>Zimbabwe</td>\n      <td>Africa</td>\n      <td>1967</td>\n      <td>53.995</td>\n      <td>4995432</td>\n      <td>569.795071</td>\n    </tr>\n    <tr>\n      <th>3304</th>\n      <td>Zimbabwe</td>\n      <td>Africa</td>\n      <td>1972</td>\n      <td>55.635</td>\n      <td>5861135</td>\n      <td>799.362176</td>\n    </tr>\n    <tr>\n      <th>3305</th>\n      <td>Zimbabwe</td>\n      <td>Africa</td>\n      <td>1977</td>\n      <td>57.674</td>\n      <td>6642107</td>\n      <td>685.587682</td>\n    </tr>\n    <tr>\n      <th>3306</th>\n      <td>Zimbabwe</td>\n      <td>Africa</td>\n      <td>1982</td>\n      <td>60.363</td>\n      <td>7636524</td>\n      <td>788.855041</td>\n    </tr>\n    <tr>\n      <th>3307</th>\n      <td>Zimbabwe</td>\n      <td>Africa</td>\n      <td>1987</td>\n      <td>62.351</td>\n      <td>9216418</td>\n      <td>706.157306</td>\n    </tr>\n    <tr>\n      <th>3308</th>\n      <td>Zimbabwe</td>\n      <td>Africa</td>\n      <td>1992</td>\n      <td>60.377</td>\n      <td>10704340</td>\n      <td>693.420786</td>\n    </tr>\n    <tr>\n      <th>3309</th>\n      <td>Zimbabwe</td>\n      <td>Africa</td>\n      <td>1997</td>\n      <td>46.809</td>\n      <td>11404948</td>\n      <td>792.449960</td>\n    </tr>\n    <tr>\n      <th>3310</th>\n      <td>Zimbabwe</td>\n      <td>Africa</td>\n      <td>2002</td>\n      <td>39.989</td>\n      <td>11926563</td>\n      <td>672.038623</td>\n    </tr>\n    <tr>\n      <th>3311</th>\n      <td>Zimbabwe</td>\n      <td>Africa</td>\n      <td>2007</td>\n      <td>43.487</td>\n      <td>12311143</td>\n      <td>469.709298</td>\n    </tr>\n  </tbody>\n</table>\n</div>"
          },
          "metadata": {},
          "execution_count": 9
        }
      ]
    },
    {
      "cell_type": "code",
      "metadata": {
        "id": "7FBeX6LIdWEG",
        "colab_type": "code",
        "outputId": "fea4c019-c73c-4b4d-9afb-63a77e1be27c",
        "colab": {
          "base_uri": "https://localhost:8080/",
          "height": 297
        }
      },
      "source": [
        "# Exibindo resumo estatístico\n",
        "df.describe()"
      ],
      "execution_count": 10,
      "outputs": [
        {
          "output_type": "execute_result",
          "data": {
            "text/plain": "               Ano  Expectativa de vida     Pop Total            PIB\ncount  3312.000000          3312.000000  3.312000e+03    3312.000000\nmean   1980.301630            65.246871  3.161489e+07   11317.115805\nstd      16.927294            11.768412  1.041193e+08   11369.142739\nmin    1950.000000            23.599000  5.941200e+04     241.165877\n25%    1967.000000            58.337500  2.678572e+06    2514.625266\n50%    1982.000000            69.610000  7.557218e+06    7838.505123\n75%    1996.000000            73.657750  1.958522e+07   17357.879170\nmax    2007.000000            82.670000  1.318683e+09  113523.132900",
            "text/html": "<div>\n<style scoped>\n    .dataframe tbody tr th:only-of-type {\n        vertical-align: middle;\n    }\n\n    .dataframe tbody tr th {\n        vertical-align: top;\n    }\n\n    .dataframe thead th {\n        text-align: right;\n    }\n</style>\n<table border=\"1\" class=\"dataframe\">\n  <thead>\n    <tr style=\"text-align: right;\">\n      <th></th>\n      <th>Ano</th>\n      <th>Expectativa de vida</th>\n      <th>Pop Total</th>\n      <th>PIB</th>\n    </tr>\n  </thead>\n  <tbody>\n    <tr>\n      <th>count</th>\n      <td>3312.000000</td>\n      <td>3312.000000</td>\n      <td>3.312000e+03</td>\n      <td>3312.000000</td>\n    </tr>\n    <tr>\n      <th>mean</th>\n      <td>1980.301630</td>\n      <td>65.246871</td>\n      <td>3.161489e+07</td>\n      <td>11317.115805</td>\n    </tr>\n    <tr>\n      <th>std</th>\n      <td>16.927294</td>\n      <td>11.768412</td>\n      <td>1.041193e+08</td>\n      <td>11369.142739</td>\n    </tr>\n    <tr>\n      <th>min</th>\n      <td>1950.000000</td>\n      <td>23.599000</td>\n      <td>5.941200e+04</td>\n      <td>241.165877</td>\n    </tr>\n    <tr>\n      <th>25%</th>\n      <td>1967.000000</td>\n      <td>58.337500</td>\n      <td>2.678572e+06</td>\n      <td>2514.625266</td>\n    </tr>\n    <tr>\n      <th>50%</th>\n      <td>1982.000000</td>\n      <td>69.610000</td>\n      <td>7.557218e+06</td>\n      <td>7838.505123</td>\n    </tr>\n    <tr>\n      <th>75%</th>\n      <td>1996.000000</td>\n      <td>73.657750</td>\n      <td>1.958522e+07</td>\n      <td>17357.879170</td>\n    </tr>\n    <tr>\n      <th>max</th>\n      <td>2007.000000</td>\n      <td>82.670000</td>\n      <td>1.318683e+09</td>\n      <td>113523.132900</td>\n    </tr>\n  </tbody>\n</table>\n</div>"
          },
          "metadata": {},
          "execution_count": 10
        }
      ]
    },
    {
      "cell_type": "code",
      "metadata": {
        "id": "VpiTdqMDdg2J",
        "colab_type": "code",
        "outputId": "655b7629-c6d8-41b0-b9a9-437485c2e3f5",
        "colab": {
          "base_uri": "https://localhost:8080/",
          "height": 51
        }
      },
      "source": [
        "# Retornando apenas os valores únicos (funciona como uma espécie de filtro)\n",
        "df[\"continente\"].unique()           # retorna apenas os valores únicos da coluna \"continente\"\n",
        "\n",
        "# \"nan\" => valor NA"
      ],
      "execution_count": 11,
      "outputs": [
        {
          "output_type": "execute_result",
          "data": {
            "text/plain": "array(['Asia', 'Europe', 'Africa', 'Americas', nan, 'FSU', 'Oceania'],\n      dtype=object)"
          },
          "metadata": {},
          "execution_count": 11
        }
      ]
    },
    {
      "cell_type": "code",
      "metadata": {
        "id": "iYkqpfomeFv0",
        "colab_type": "code",
        "outputId": "c170c52e-aae8-4dc3-a0ce-8e8e25710c53",
        "colab": {
          "base_uri": "https://localhost:8080/",
          "height": 204
        }
      },
      "source": [
        "# Retornando apenas as linhas correspondentes a \"continente = oceania\" => exibindo somente valores do continente oceania\n",
        "Oceania = df.loc[df[\"continente\"] == \"Oceania\"]\n",
        "Oceania.head()\n",
        "\n",
        "# \"loc\" => localização"
      ],
      "execution_count": 12,
      "outputs": [
        {
          "output_type": "execute_result",
          "data": {
            "text/plain": "     Pais continente   Ano  Expectativa de vida  Pop Total          PIB\n975  Fiji    Oceania  1962               56.494     421869  2039.393277\n976  Fiji    Oceania  1967               58.607     485000  2170.073285\n977  Fiji    Oceania  1972               60.642     544000  2797.759484\n978  Fiji    Oceania  1977               62.669     599339  3182.569600\n979  Fiji    Oceania  1982               64.683     658906  3209.257468",
            "text/html": "<div>\n<style scoped>\n    .dataframe tbody tr th:only-of-type {\n        vertical-align: middle;\n    }\n\n    .dataframe tbody tr th {\n        vertical-align: top;\n    }\n\n    .dataframe thead th {\n        text-align: right;\n    }\n</style>\n<table border=\"1\" class=\"dataframe\">\n  <thead>\n    <tr style=\"text-align: right;\">\n      <th></th>\n      <th>Pais</th>\n      <th>continente</th>\n      <th>Ano</th>\n      <th>Expectativa de vida</th>\n      <th>Pop Total</th>\n      <th>PIB</th>\n    </tr>\n  </thead>\n  <tbody>\n    <tr>\n      <th>975</th>\n      <td>Fiji</td>\n      <td>Oceania</td>\n      <td>1962</td>\n      <td>56.494</td>\n      <td>421869</td>\n      <td>2039.393277</td>\n    </tr>\n    <tr>\n      <th>976</th>\n      <td>Fiji</td>\n      <td>Oceania</td>\n      <td>1967</td>\n      <td>58.607</td>\n      <td>485000</td>\n      <td>2170.073285</td>\n    </tr>\n    <tr>\n      <th>977</th>\n      <td>Fiji</td>\n      <td>Oceania</td>\n      <td>1972</td>\n      <td>60.642</td>\n      <td>544000</td>\n      <td>2797.759484</td>\n    </tr>\n    <tr>\n      <th>978</th>\n      <td>Fiji</td>\n      <td>Oceania</td>\n      <td>1977</td>\n      <td>62.669</td>\n      <td>599339</td>\n      <td>3182.569600</td>\n    </tr>\n    <tr>\n      <th>979</th>\n      <td>Fiji</td>\n      <td>Oceania</td>\n      <td>1982</td>\n      <td>64.683</td>\n      <td>658906</td>\n      <td>3209.257468</td>\n    </tr>\n  </tbody>\n</table>\n</div>"
          },
          "metadata": {},
          "execution_count": 12
        }
      ]
    },
    {
      "cell_type": "code",
      "metadata": {
        "id": "lBRxYPZEecyH",
        "colab_type": "code",
        "outputId": "b4d817fe-cf25-475c-af3f-fbf0722526d6",
        "colab": {
          "base_uri": "https://localhost:8080/",
          "height": 34
        }
      },
      "source": [
        "Oceania[\"continente\"].unique()"
      ],
      "execution_count": 13,
      "outputs": [
        {
          "output_type": "execute_result",
          "data": {
            "text/plain": "array(['Oceania'], dtype=object)"
          },
          "metadata": {},
          "execution_count": 13
        }
      ]
    },
    {
      "cell_type": "code",
      "metadata": {
        "id": "YtYzNHw4eije",
        "colab_type": "code",
        "outputId": "9884fd7b-8703-4306-9c0e-17b074e19e75",
        "colab": {
          "base_uri": "https://localhost:8080/",
          "height": 153
        }
      },
      "source": [
        "# Agrupando dados \n",
        "df.groupby(\"continente\")[\"Pais\"].nunique()  # exibe a contagem distinta de países agrupados por continente"
      ],
      "execution_count": 14,
      "outputs": [
        {
          "output_type": "execute_result",
          "data": {
            "text/plain": "continente\nAfrica      51\nAmericas    25\nAsia        41\nEurope      35\nFSU          6\nOceania      3\nName: Pais, dtype: int64"
          },
          "metadata": {},
          "execution_count": 14
        }
      ]
    },
    {
      "cell_type": "code",
      "metadata": {
        "id": "JXyJK1M6e4p5",
        "colab_type": "code",
        "outputId": "3dd7b00d-c1ce-4a34-9119-d49c07631c2f",
        "colab": {
          "base_uri": "https://localhost:8080/",
          "height": 1000
        }
      },
      "source": [
        "# Exibindo a média de expectativa de vida agrupada por ano\n",
        "df.groupby(\"Ano\")[\"Expectativa de vida\"].mean()"
      ],
      "execution_count": 15,
      "outputs": [
        {
          "output_type": "execute_result",
          "data": {
            "text/plain": "Ano\n1950    62.002568\n1951    65.904167\n1952    49.206867\n1953    66.674563\n1954    67.459817\n1955    67.806757\n1956    67.950637\n1957    51.614590\n1958    68.815936\n1959    68.226579\n1960    68.470837\n1961    68.862480\n1962    54.035234\n1963    69.595735\n1964    70.063105\n1965    70.259881\n1966    70.447526\n1967    56.263629\n1968    70.689081\n1969    70.653896\n1970    70.961141\n1971    71.103976\n1972    58.474481\n1973    71.500338\n1974    71.778504\n1975    71.939218\n1976    72.158050\n1977    60.429090\n1978    72.717567\n1979    73.018717\n1980    73.064524\n1981    73.337399\n1982    62.365871\n1983    73.787778\n1984    74.100741\n1985    74.112222\n1986    74.452222\n1987    63.984860\n1988    74.760000\n1989    74.924444\n1990    74.283437\n1991    74.374848\n1992    65.008443\n1993    74.324545\n1994    74.456667\n1995    74.552727\n1996    75.029394\n1997    65.873799\n1998    75.569697\n1999    75.703636\n2000    76.026364\n2001    76.257879\n2002    66.835695\n2003    76.586667\n2004    76.921563\n2005    76.718667\n2006    77.887778\n2007    67.868557\nName: Expectativa de vida, dtype: float64"
          },
          "metadata": {},
          "execution_count": 15
        }
      ]
    },
    {
      "cell_type": "code",
      "metadata": {
        "id": "77-NQlTzfVNc",
        "colab_type": "code",
        "outputId": "b7a2a84c-4b88-4829-9e59-47544e2eb34b",
        "colab": {
          "base_uri": "https://localhost:8080/",
          "height": 34
        }
      },
      "source": [
        "# Calculando o valor médio de uma coluna\n",
        "df[\"PIB\"].mean()"
      ],
      "execution_count": 16,
      "outputs": [
        {
          "output_type": "execute_result",
          "data": {
            "text/plain": "11317.115804696637"
          },
          "metadata": {},
          "execution_count": 16
        }
      ]
    },
    {
      "cell_type": "code",
      "metadata": {
        "id": "0lsZACzvfg80",
        "colab_type": "code",
        "outputId": "9408b6b3-6604-4a37-f06c-8d50290fb1da",
        "colab": {
          "base_uri": "https://localhost:8080/",
          "height": 34
        }
      },
      "source": [
        "# Calculando a soma total de uma coluna\n",
        "df[\"PIB\"].sum()"
      ],
      "execution_count": 17,
      "outputs": [
        {
          "output_type": "execute_result",
          "data": {
            "text/plain": "37482287.5451553"
          },
          "metadata": {},
          "execution_count": 17
        }
      ]
    },
    {
      "cell_type": "code",
      "metadata": {
        "id": "UMMCdfDsfmao",
        "colab_type": "code",
        "colab": {}
      },
      "source": [
        ""
      ],
      "execution_count": 0,
      "outputs": []
    }
  ],
  "metadata": {
    "colab": {
      "name": "Aula1_Pandas.ipynb",
      "provenance": [],
      "collapsed_sections": []
    },
    "kernelspec": {
      "name": "python3",
      "display_name": "Python 3"
    }
  },
  "nbformat": 4,
  "nbformat_minor": 0
}